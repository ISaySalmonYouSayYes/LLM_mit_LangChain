{
  "nbformat": 4,
  "nbformat_minor": 0,
  "metadata": {
    "colab": {
      "provenance": [],
      "authorship_tag": "ABX9TyNJsoJQYgp8NuO9ea9Ampcs",
      "include_colab_link": true
    },
    "kernelspec": {
      "name": "python3",
      "display_name": "Python 3"
    },
    "language_info": {
      "name": "python"
    }
  },
  "cells": [
    {
      "cell_type": "markdown",
      "metadata": {
        "id": "view-in-github",
        "colab_type": "text"
      },
      "source": [
        "<a href=\"https://colab.research.google.com/github/ISaySalmonYouSayYes/LLM_mit_LangChain/blob/main/useful_thoughts_Langchain.ipynb\" target=\"_parent\"><img src=\"https://colab.research.google.com/assets/colab-badge.svg\" alt=\"Open In Colab\"/></a>"
      ]
    },
    {
      "cell_type": "markdown",
      "source": [
        "# **0. Before you start**\n",
        "- 這是一個專門儲存可能會用上的idea和method的筆記本，希望沒有人會看得懂這段中文，太羞恥了。"
      ],
      "metadata": {
        "id": "Gcn0uvO2O7QM"
      }
    },
    {
      "cell_type": "markdown",
      "source": [
        "# **1. Comprehensive chatbox method**\n",
        "- A smart way to undo the chatbox by creating customized history. In\n",
        "[colab](https://colab.research.google.com/github/jeffheaton/app_generative_ai/blob/main/t81_559_class_04_5_memory_persist.ipynb#scrollTo=TMF-rtxgRAea)"
      ],
      "metadata": {
        "id": "Y537uSBSPQ6F"
      }
    }
  ]
}