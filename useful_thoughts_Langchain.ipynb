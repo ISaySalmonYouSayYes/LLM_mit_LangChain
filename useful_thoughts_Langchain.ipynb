{
  "nbformat": 4,
  "nbformat_minor": 0,
  "metadata": {
    "colab": {
      "provenance": [],
      "authorship_tag": "ABX9TyNYvtmhi8VWeQ2l72OOR7bQ",
      "include_colab_link": true
    },
    "kernelspec": {
      "name": "python3",
      "display_name": "Python 3"
    },
    "language_info": {
      "name": "python"
    }
  },
  "cells": [
    {
      "cell_type": "markdown",
      "metadata": {
        "id": "view-in-github",
        "colab_type": "text"
      },
      "source": [
        "<a href=\"https://colab.research.google.com/github/ISaySalmonYouSayYes/LLM_mit_LangChain/blob/main/useful_thoughts_Langchain.ipynb\" target=\"_parent\"><img src=\"https://colab.research.google.com/assets/colab-badge.svg\" alt=\"Open In Colab\"/></a>"
      ]
    },
    {
      "cell_type": "markdown",
      "source": [
        "# **0. Before you start**\n",
        "- 這是一個專門儲存可能會用上的idea和method的筆記本，希望沒有人會看得懂這段中文，太羞恥了。"
      ],
      "metadata": {
        "id": "Gcn0uvO2O7QM"
      }
    },
    {
      "cell_type": "markdown",
      "source": [
        "# **1. Comprehensive chatbox method**\n",
        "- A smart way to undo the chatbox by creating customized history. In\n",
        "[colab](https://colab.research.google.com/github/jeffheaton/app_generative_ai/blob/main/t81_559_class_04_5_memory_persist.ipynb#scrollTo=TMF-rtxgRAea)"
      ],
      "metadata": {
        "id": "Y537uSBSPQ6F"
      }
    },
    {
      "cell_type": "markdown",
      "source": [
        "# **2. Structured output Parser**\n",
        "- Strategy to chain the model and a series of output paser. In [colab](https://colab.research.google.com/github/jeffheaton/app_generative_ai/blob/main/t81_559_class_05_1_langchain_data.ipynb#scrollTo=c9wKUJR3tiYP)"
      ],
      "metadata": {
        "id": "MCEpgOA3aUK-"
      }
    },
    {
      "cell_type": "markdown",
      "source": [
        "# **3. Other Parsers (CSV, JSON, Pandas, Datetime)**\n",
        "- Datetime parser could be used in the project. In [colab](https://colab.research.google.com/github/jeffheaton/app_generative_ai/blob/main/t81_559_class_05_2_parsers.ipynb#scrollTo=d4Yov72PhstY)"
      ],
      "metadata": {
        "id": "FaZmPV2pbFT8"
      }
    },
    {
      "cell_type": "markdown",
      "source": [
        "# **4. Introduction to RAG(Retrieval-augmented Generation)**\n",
        "- In [colab](https://colab.research.google.com/github/jeffheaton/app_generative_ai/blob/main/t81_559_class_06_1_rag.ipynb#scrollTo=pC9A-LaYhsta)"
      ],
      "metadata": {
        "id": "mPf2jIv6OgY7"
      }
    },
    {
      "cell_type": "markdown",
      "source": [
        "# **5. Introduction to Embeddings**\n",
        "- Cosine similarity method could be find in [colab](https://colab.research.google.com/github/jeffheaton/app_generative_ai/blob/main/t81_559_class_06_3_embeddings.ipynb#scrollTo=pC9A-LaYhsta)\n",
        "- Other OpenAI embedding model"
      ],
      "metadata": {
        "id": "4KJpU6qnZCzb"
      }
    },
    {
      "cell_type": "markdown",
      "source": [
        "# **6. Introduction to LangChain Agent**\n",
        "- Here has an example of connecting a search enginee. Besides, providing ReAct complex reasoning, which might be helpful. In [colab](https://colab.research.google.com/github/jeffheaton/app_generative_ai/blob/main/t81_559_class_07_1_agents.ipynb#scrollTo=RXNmfAPJUiX5)"
      ],
      "metadata": {
        "id": "5Bia-ee0EiXK"
      }
    },
    {
      "cell_type": "markdown",
      "source": [
        "# **7. Understanding Agents tool**\n",
        "- In [colab](https://colab.research.google.com/github/jeffheaton/app_generative_ai/blob/main/t81_559_class_07_2_tools.ipynb#scrollTo=u3O0SkxSwPFk)"
      ],
      "metadata": {
        "id": "kgUbT5MLNjoV"
      }
    },
    {
      "cell_type": "markdown",
      "source": [
        "# **8. Customed agent**\n",
        "- An example of how to use the customed tool to control a rotbox. In [colab](https://colab.research.google.com/github/jeffheaton/app_generative_ai/blob/main/t81_559_class_07_5_custom_agent.ipynb)"
      ],
      "metadata": {
        "id": "51M3_cGairgX"
      }
    }
  ]
}