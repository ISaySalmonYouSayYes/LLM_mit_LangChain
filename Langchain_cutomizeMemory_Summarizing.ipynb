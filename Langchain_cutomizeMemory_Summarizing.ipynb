{
  "nbformat": 4,
  "nbformat_minor": 0,
  "metadata": {
    "colab": {
      "provenance": [],
      "authorship_tag": "ABX9TyNWGy9CWEBdnjSqEUSpO+Yw",
      "include_colab_link": true
    },
    "kernelspec": {
      "name": "python3",
      "display_name": "Python 3"
    },
    "language_info": {
      "name": "python"
    }
  },
  "cells": [
    {
      "cell_type": "markdown",
      "metadata": {
        "id": "view-in-github",
        "colab_type": "text"
      },
      "source": [
        "<a href=\"https://colab.research.google.com/github/ISaySalmonYouSayYes/LLM_mit_LangChain/blob/main/Langchain_cutomizeMemory_Summarizing.ipynb\" target=\"_parent\"><img src=\"https://colab.research.google.com/assets/colab-badge.svg\" alt=\"Open In Colab\"/></a>"
      ]
    },
    {
      "cell_type": "markdown",
      "source": [
        "# **0. Before you start**\n",
        "\n",
        "1. Implementing summarizing before the system delete the oldest memory.\n",
        "2. Use the token-Based memory. It outperformed the windows-Based one significantly."
      ],
      "metadata": {
        "id": "UQgQr-YaNO3b"
      }
    },
    {
      "cell_type": "markdown",
      "source": [
        "### **Challenges - WindowsBase**\n",
        "1. System would forget its rule soon. ----fixed\n",
        "2. System knows it's talking to Kai, but it doesn't know I'm Kai.\n",
        "3. Even if we asked system to summarize the details, it sometimes still just ignored it ----fixed, probably"
      ],
      "metadata": {
        "id": "6dCWLnm4NonF"
      }
    },
    {
      "cell_type": "code",
      "execution_count": null,
      "metadata": {
        "id": "yKtuE0Z9xcGR"
      },
      "outputs": [],
      "source": [
        "import os\n",
        "\n",
        "try:\n",
        "    from google.colab import drive, userdata\n",
        "    COLAB = True\n",
        "    print(\"Note: using Google CoLab\")\n",
        "except:\n",
        "    print(\"Note: not using Google CoLab\")\n",
        "    COLAB = False\n",
        "\n",
        "# OpenAI Secrets\n",
        "if COLAB:\n",
        "    os.environ[\"OPENAI_API_KEY\"] = userdata.get('openAI_Key')\n",
        "\n",
        "# Install needed libraries in CoLab\n",
        "if COLAB:\n",
        "    !pip install langchain langchain_openai\n",
        "    !pip install langgraph"
      ]
    },
    {
      "cell_type": "markdown",
      "source": [
        "# **1. Code**"
      ],
      "metadata": {
        "id": "2tZ7OntmSRO8"
      }
    },
    {
      "cell_type": "markdown",
      "source": [
        "## **1.1 Windows-based memory method**"
      ],
      "metadata": {
        "id": "Zd8Qe5a5If6d"
      }
    },
    {
      "cell_type": "code",
      "source": [
        "from langchain.chains import ConversationChain\n",
        "from langchain.memory import ConversationBufferWindowMemory, ConversationTokenBufferMemory\n",
        "from langchain_openai import ChatOpenAI\n",
        "from langchain_core.messages import HumanMessage, SystemMessage, AIMessage\n",
        "from langchain_core.prompts.chat import PromptTemplate\n",
        "from IPython.display import display_markdown\n",
        "from langchain.chains import LLMChain\n",
        "\n",
        "\n",
        "from langchain_core.prompts.chat import (\n",
        "    ChatPromptTemplate,\n",
        "    HumanMessagePromptTemplate,\n",
        "    SystemMessagePromptTemplate,\n",
        ")\n",
        "\n",
        "MODEL = 'gpt-4o-mini'\n",
        "TEMPLATE = \"\"\"You are a helpful secretary. You can remember\n",
        "        his personal information so that you can help him more. Format answers with markdown.\n",
        "\n",
        "Current conversation:\n",
        "{history}\n",
        "Human: {input}\n",
        "AI:\"\"\"\n",
        "PROMPT_TEMPLATE = PromptTemplate(input_variables=[\"history\", \"input\"], template=TEMPLATE)\n",
        "\n",
        "\n",
        "\n",
        "class AutoSummarizingMemory(ConversationBufferWindowMemory):\n",
        "    def __init__(self, k=5, **kwargs):\n",
        "        super().__init__(k=k, **kwargs)\n",
        "\n",
        "    def save_context(self, inputs, outputs):\n",
        "        \"\"\"\n",
        "        Overrides the save_context method to automatically summarize the oldest messages\n",
        "        if memory exceeds the `k` limit.\n",
        "        \"\"\"\n",
        "        super().save_context(inputs, outputs)\n",
        "\n",
        "        # Check if messages exceed the limit\n",
        "        if len(self.chat_memory.messages) > self.k:\n",
        "            self._summarize_oldest_messages()\n",
        "\n",
        "    def _summarize_oldest_messages(self):\n",
        "        \"\"\"\n",
        "        You are a helpful secretary helping your boss. You have to remember\n",
        "        his personal information including numeral information so that you can help him more.\n",
        "        Summarizes the oldest messages and replaces them with a single summary message.\n",
        "        \"\"\"\n",
        "        messages = self.chat_memory.messages\n",
        "        if len(messages) <= self.k:\n",
        "            return  # No need to summarize if under the limit\n",
        "\n",
        "        # Get the messages to summarize (all except the most recent `k` messages)\n",
        "        oldest_messages = messages[:-self.k]\n",
        "\n",
        "        # Format the history for summarization\n",
        "        history = \"\\n\".join(\n",
        "            f\"Human: {msg.content}\" if isinstance(msg, HumanMessage) else f\"AI: {msg.content}\"\n",
        "            for msg in oldest_messages\n",
        "        )\n",
        "\n",
        "\n",
        "        # Create a summarization prompt\n",
        "        summary_prompt = f\"Summarize the following conversation:\\n\\n{history}\"\n",
        "        llm = ChatOpenAI(model=MODEL, temperature=0.0)\n",
        "        summary_response = llm.invoke([HumanMessage(content=summary_prompt)])\n",
        "        summary = summary_response.content\n",
        "\n",
        "        # Replace the oldest messages with a single summary message\n",
        "        self.chat_memory.messages = [AIMessage(content=f\"Summary: {summary}\")] + messages[-self.k:]\n",
        "\n",
        "\n",
        "\n",
        "def begin_conversation():\n",
        "    # Initialize the OpenAI LLM\n",
        "    llm = ChatOpenAI(\n",
        "        model=MODEL,\n",
        "        temperature=0.0,\n",
        "        n=1\n",
        "    )\n",
        "\n",
        "    # Initialize memory with auto-summarization\n",
        "    memory = AutoSummarizingMemory(k=5)  # Retains the last 5 exchanges after summarization\n",
        "    conversation = ConversationChain(\n",
        "        prompt=PROMPT_TEMPLATE,\n",
        "        llm=llm,\n",
        "        memory=memory,\n",
        "        verbose=False\n",
        "    )\n",
        "\n",
        "    return conversation\n",
        "\n",
        "\n",
        "def chat(conversation, prompt):\n",
        "    print(f\"Human: {prompt}\")\n",
        "    output = conversation.invoke(prompt)\n",
        "    output = output['response']\n",
        "    display_markdown(output, raw=True)"
      ],
      "metadata": {
        "id": "QM0p63Yl_pd3"
      },
      "execution_count": 31,
      "outputs": []
    },
    {
      "cell_type": "markdown",
      "source": [
        "## **1.2 Token-Based memory method**"
      ],
      "metadata": {
        "id": "euPKSWwtImvR"
      }
    },
    {
      "cell_type": "code",
      "source": [
        "from langchain.chains import ConversationChain\n",
        "from langchain.memory import ConversationBufferWindowMemory, ConversationTokenBufferMemory, ConversationSummaryBufferMemory\n",
        "from langchain_openai import ChatOpenAI\n",
        "from langchain_core.messages import HumanMessage, SystemMessage, AIMessage\n",
        "from langchain_core.prompts.chat import PromptTemplate\n",
        "from IPython.display import display_markdown\n",
        "from langchain.chains import LLMChain\n",
        "\n",
        "\n",
        "from langchain_core.prompts.chat import (\n",
        "    ChatPromptTemplate,\n",
        "    HumanMessagePromptTemplate,\n",
        "    SystemMessagePromptTemplate,\n",
        ")\n",
        "\n",
        "MODEL = 'gpt-4o-mini'\n",
        "TEMPLATE = \"\"\"You are a helpful secretary. You can remember\n",
        "        his personal information so that you can help him more. Format answers with markdown.\n",
        "\n",
        "Current conversation:\n",
        "{history}\n",
        "Human: {input}\n",
        "AI:\"\"\"\n",
        "PROMPT_TEMPLATE = PromptTemplate(input_variables=[\"history\", \"input\"], template=TEMPLATE)\n",
        "\n",
        "def begin_conversation():\n",
        "    # Initialize the OpenAI LLM\n",
        "    llm = ChatOpenAI(\n",
        "        model=MODEL,\n",
        "        temperature=0.0,\n",
        "        n=1\n",
        "    )\n",
        "\n",
        "    # Initialize memory with auto-summarization\n",
        "    memory = ConversationSummaryBufferMemory(llm=llm, max_token_limit=20) #20 works very well\n",
        "    conversation = ConversationChain(\n",
        "        prompt=PROMPT_TEMPLATE,\n",
        "        llm=llm,\n",
        "        memory=memory,\n",
        "        verbose=False\n",
        "    )\n",
        "\n",
        "    return conversation\n",
        "\n",
        "\n",
        "def chat(conversation, prompt):\n",
        "    print(f\"Human: {prompt}\")\n",
        "    output = conversation.invoke(prompt)\n",
        "    output = output['response']\n",
        "    display_markdown(output, raw=True)"
      ],
      "metadata": {
        "id": "gFBGaa8XEV7l"
      },
      "execution_count": 26,
      "outputs": []
    },
    {
      "cell_type": "markdown",
      "source": [
        "# **2. Result**"
      ],
      "metadata": {
        "id": "pvcN1tCLSqrE"
      }
    },
    {
      "cell_type": "code",
      "source": [
        "# Example usage\n",
        "conversation = begin_conversation()\n",
        "\n",
        "chat(conversation, \"My name is Kai, generate a student number starting with S for me and remeber it\")\n",
        "chat(conversation, \"My trip in Europe would end on the first of December\")\n",
        "chat(conversation, \"My passport number is F987654321\")\n",
        "chat(conversation, \"My birthday is 2000-01-01\")\n",
        "chat(conversation, \"What is my student ID?\")\n",
        "chat(conversation, \"When is my birthday?\")\n",
        "chat(conversation, \"When is the end of my Journey?\")\n",
        "chat(conversation, \"What is my passport number?\")\n",
        "chat(conversation, \"Forget about my birthday\")\n",
        "chat(conversation, \"When is my birthday?\")\n",
        "chat(conversation, \"What is my name?\")\n",
        "chat(conversation, \"When is my birthday?\")\n",
        "chat(conversation, \"You don't have to forget my birthday anymore. When is my birthday?\")\n",
        "chat(conversation, \"What is my student number?\")\n",
        "chat(conversation, \"When is the end of my Journey?\")\n",
        "chat(conversation, \"Who am I?\")\n",
        "chat(conversation, \"Who is Kai?\")\n",
        "chat(conversation, \"Who are you?\")\n",
        "chat(conversation, \"What is my name?\")\n",
        "chat(conversation, \"What is my student number?\")\n",
        "\n",
        "# Check the memory after conversation\n",
        "print(\"Final memory:\")\n",
        "for message in conversation.memory.chat_memory.messages:\n",
        "    print(f\"{'Human' if isinstance(message, HumanMessage) else 'AI'}: {message.content}\")\n"
      ],
      "metadata": {
        "colab": {
          "base_uri": "https://localhost:8080/",
          "height": 1000
        },
        "id": "AUHWND8LOsHR",
        "outputId": "fc100f13-18b8-4c78-dce1-19b0eaab290e"
      },
      "execution_count": 32,
      "outputs": [
        {
          "output_type": "stream",
          "name": "stdout",
          "text": [
            "Human: My name is Kai, generate a student number starting with S for me and remeber it\n"
          ]
        },
        {
          "output_type": "display_data",
          "data": {
            "text/markdown": "Sure, Kai! Your student number is **S123456**. I'll remember it for you. If you need anything else, just let me know!"
          },
          "metadata": {}
        },
        {
          "output_type": "stream",
          "name": "stdout",
          "text": [
            "Human: My trip in Europe would end on the first of December\n"
          ]
        },
        {
          "output_type": "display_data",
          "data": {
            "text/markdown": "Got it, Kai! Your trip in Europe will end on **December 1st**. If there's anything else you'd like to share or need help with, just let me know!"
          },
          "metadata": {}
        },
        {
          "output_type": "stream",
          "name": "stdout",
          "text": [
            "Human: My passport number is F987654321\n"
          ]
        },
        {
          "output_type": "display_data",
          "data": {
            "text/markdown": "Got it, Kai! Your passport number is **F987654321**. If you have any more information to share or need assistance, feel free to ask!"
          },
          "metadata": {}
        },
        {
          "output_type": "stream",
          "name": "stdout",
          "text": [
            "Human: My birthday is 2000-01-01\n"
          ]
        },
        {
          "output_type": "display_data",
          "data": {
            "text/markdown": "Got it, Kai! Your birthday is **January 1, 2000**. If there's anything else you'd like to share or need help with, just let me know!"
          },
          "metadata": {}
        },
        {
          "output_type": "stream",
          "name": "stdout",
          "text": [
            "Human: What is my student ID?\n"
          ]
        },
        {
          "output_type": "display_data",
          "data": {
            "text/markdown": "Your student ID is **S123456**. If you need any more information or assistance, just let me know!"
          },
          "metadata": {}
        },
        {
          "output_type": "stream",
          "name": "stdout",
          "text": [
            "Human: When is my birthday?\n"
          ]
        },
        {
          "output_type": "display_data",
          "data": {
            "text/markdown": "Your birthday is **January 1, 2000**. If you have any other questions or need assistance, feel free to ask!"
          },
          "metadata": {}
        },
        {
          "output_type": "stream",
          "name": "stdout",
          "text": [
            "Human: When is the end of my Journey?\n"
          ]
        },
        {
          "output_type": "display_data",
          "data": {
            "text/markdown": "Your journey in Europe will end on **December 1st**. If you have any other questions or need further assistance, just let me know!"
          },
          "metadata": {}
        },
        {
          "output_type": "stream",
          "name": "stdout",
          "text": [
            "Human: What is my passport number?\n"
          ]
        },
        {
          "output_type": "display_data",
          "data": {
            "text/markdown": "Your passport number is **F987654321**. If you need any more information or assistance, feel free to ask!"
          },
          "metadata": {}
        },
        {
          "output_type": "stream",
          "name": "stdout",
          "text": [
            "Human: Forget about my birthday\n"
          ]
        },
        {
          "output_type": "display_data",
          "data": {
            "text/markdown": "Your birthday has been forgotten. If you need any other assistance or have further requests, just let me know!"
          },
          "metadata": {}
        },
        {
          "output_type": "stream",
          "name": "stdout",
          "text": [
            "Human: When is my birthday?\n"
          ]
        },
        {
          "output_type": "display_data",
          "data": {
            "text/markdown": "Your birthday has been forgotten. If you need any other information or assistance, feel free to ask!"
          },
          "metadata": {}
        },
        {
          "output_type": "stream",
          "name": "stdout",
          "text": [
            "Human: What is my name?\n"
          ]
        },
        {
          "output_type": "display_data",
          "data": {
            "text/markdown": "I'm sorry, but I don't have your name stored. If you provide it, I can remember it for future reference!"
          },
          "metadata": {}
        },
        {
          "output_type": "stream",
          "name": "stdout",
          "text": [
            "Human: When is my birthday?\n"
          ]
        },
        {
          "output_type": "display_data",
          "data": {
            "text/markdown": "Your birthday has been forgotten. If you would like to share it again or need assistance with anything else, just let me know!"
          },
          "metadata": {}
        },
        {
          "output_type": "stream",
          "name": "stdout",
          "text": [
            "Human: You don't have to forget my birthday anymore. When is my birthday?\n"
          ]
        },
        {
          "output_type": "display_data",
          "data": {
            "text/markdown": "I'm sorry, but I still don't have your birthday stored. If you'd like to share it again, I can remember it for future reference!"
          },
          "metadata": {}
        },
        {
          "output_type": "stream",
          "name": "stdout",
          "text": [
            "Human: What is my student number?\n"
          ]
        },
        {
          "output_type": "display_data",
          "data": {
            "text/markdown": "Your student number is **S123456**. If you need any further assistance, feel free to ask!"
          },
          "metadata": {}
        },
        {
          "output_type": "stream",
          "name": "stdout",
          "text": [
            "Human: When is the end of my Journey?\n"
          ]
        },
        {
          "output_type": "display_data",
          "data": {
            "text/markdown": "Your journey ends on **December 1st**. If you have any more questions or need assistance with anything else, just let me know!"
          },
          "metadata": {}
        },
        {
          "output_type": "stream",
          "name": "stdout",
          "text": [
            "Human: Who am I?\n"
          ]
        },
        {
          "output_type": "display_data",
          "data": {
            "text/markdown": "I currently don't have your name stored. If you could provide it, I can remember it for future reference!"
          },
          "metadata": {}
        },
        {
          "output_type": "stream",
          "name": "stdout",
          "text": [
            "Human: Who is Kai?\n"
          ]
        },
        {
          "output_type": "display_data",
          "data": {
            "text/markdown": "Kai is the individual in this conversation who has shared their student number, trip details, passport number, and birthday. If you need any specific information about Kai or assistance related to them, feel free to ask!"
          },
          "metadata": {}
        },
        {
          "output_type": "stream",
          "name": "stdout",
          "text": [
            "Human: Who are you?\n"
          ]
        },
        {
          "output_type": "display_data",
          "data": {
            "text/markdown": "I am your helpful assistant, here to provide information and support based on our conversations. If you have any questions or need assistance, just let me know!"
          },
          "metadata": {}
        },
        {
          "output_type": "stream",
          "name": "stdout",
          "text": [
            "Human: What is my name?\n"
          ]
        },
        {
          "output_type": "display_data",
          "data": {
            "text/markdown": "I currently don't have your name stored. If you could provide it, I can remember it for future reference!"
          },
          "metadata": {}
        },
        {
          "output_type": "stream",
          "name": "stdout",
          "text": [
            "Human: What is my student number?\n"
          ]
        },
        {
          "output_type": "display_data",
          "data": {
            "text/markdown": "Your student number is **S123456**. If you need any further assistance or information, feel free to ask!"
          },
          "metadata": {}
        },
        {
          "output_type": "stream",
          "name": "stdout",
          "text": [
            "Final memory:\n",
            "AI: Summary: In the conversation, Kai requests a student number, which the AI provides as **S123456**. Kai shares trip details, including an end date of **December 1st**, passport number **F987654321**, and birthday **January 1, 2000**. The AI confirms the student ID and birthday, then offers further assistance. Kai later asks the AI to confirm the end date, which the AI does. A human then asks for their passport number, and the AI responds with **F987654321**. The human requests to forget their birthday, and the AI confirms it has been forgotten. When the human asks when their birthday is, the AI reiterates that it has been forgotten. The conversation concludes with the human asking for their name, to which the AI responds that it does not have the name stored and requests it for future reference. The human then states they no longer want their birthday forgotten and asks when it is, but the AI maintains it has been forgotten. The human also inquires about Kai's identity, and the AI clarifies that Kai is the individual who shared their details in the conversation.\n",
            "AI: I am your helpful assistant, here to provide information and support based on our conversations. If you have any questions or need assistance, just let me know!\n",
            "Human: What is my name?\n",
            "AI: I currently don't have your name stored. If you could provide it, I can remember it for future reference!\n",
            "Human: What is my student number?\n",
            "AI: Your student number is **S123456**. If you need any further assistance or information, feel free to ask!\n"
          ]
        }
      ]
    },
    {
      "cell_type": "code",
      "source": [
        "print(conversation.memory.buffer)"
      ],
      "metadata": {
        "colab": {
          "base_uri": "https://localhost:8080/"
        },
        "id": "q-D9J6ytyeiL",
        "outputId": "06d2d0cb-41c2-40bd-c043-74902441ff2a"
      },
      "execution_count": 33,
      "outputs": [
        {
          "output_type": "stream",
          "name": "stdout",
          "text": [
            "AI: Summary: In the conversation, Kai requests a student number, which the AI provides as **S123456**. Kai shares trip details, including an end date of **December 1st**, passport number **F987654321**, and birthday **January 1, 2000**. The AI confirms the student ID and birthday, then offers further assistance. Kai later asks the AI to confirm the end date, which the AI does. A human then asks for their passport number, and the AI responds with **F987654321**. The human requests to forget their birthday, and the AI confirms it has been forgotten. When the human asks when their birthday is, the AI reiterates that it has been forgotten. The conversation concludes with the human asking for their name, to which the AI responds that it does not have the name stored and requests it for future reference. The human then states they no longer want their birthday forgotten and asks when it is, but the AI maintains it has been forgotten. The human also inquires about Kai's identity, and the AI clarifies that Kai is the individual who shared their details in the conversation.\n",
            "AI: I am your helpful assistant, here to provide information and support based on our conversations. If you have any questions or need assistance, just let me know!\n",
            "Human: What is my name?\n",
            "AI: I currently don't have your name stored. If you could provide it, I can remember it for future reference!\n",
            "Human: What is my student number?\n",
            "AI: Your student number is **S123456**. If you need any further assistance or information, feel free to ask!\n"
          ]
        }
      ]
    }
  ]
}