{
  "nbformat": 4,
  "nbformat_minor": 0,
  "metadata": {
    "colab": {
      "provenance": [],
      "authorship_tag": "ABX9TyOCRCNcZdvWvUEuZDNV21fi",
      "include_colab_link": true
    },
    "kernelspec": {
      "name": "python3",
      "display_name": "Python 3"
    },
    "language_info": {
      "name": "python"
    }
  },
  "cells": [
    {
      "cell_type": "markdown",
      "metadata": {
        "id": "view-in-github",
        "colab_type": "text"
      },
      "source": [
        "<a href=\"https://colab.research.google.com/github/ISaySalmonYouSayYes/LLM_mit_LangChain/blob/main/LLM_Agent_Simulate_exp.ipynb\" target=\"_parent\"><img src=\"https://colab.research.google.com/assets/colab-badge.svg\" alt=\"Open In Colab\"/></a>"
      ]
    },
    {
      "cell_type": "markdown",
      "source": [
        "# **0. Before you start**  \n",
        "- Contents is always your best friend:P"
      ],
      "metadata": {
        "id": "mLuZ4f4xaX5h"
      }
    },
    {
      "cell_type": "code",
      "execution_count": null,
      "metadata": {
        "id": "UiGADgqrXT02"
      },
      "outputs": [],
      "source": [
        "import os\n",
        "\n",
        "try:\n",
        "    from google.colab import drive, userdata\n",
        "    COLAB = True\n",
        "    print(\"Note: using Google CoLab\")\n",
        "except:\n",
        "    print(\"Note: not using Google CoLab\")\n",
        "    COLAB = False\n",
        "\n",
        "# OpenAI Secrets\n",
        "if COLAB:\n",
        "    os.environ[\"OPENAI_API_KEY\"] = userdata.get('openAI_Key')\n",
        "\n",
        "# Install needed libraries in CoLab\n",
        "if COLAB:\n",
        "    !pip install langchain langchain_openai\n",
        "    !pip install langgraph"
      ]
    },
    {
      "cell_type": "markdown",
      "source": [
        "# **1. GPT-related method**  \n",
        "- Using GPT4.0-mini mit Langchain(A library uniforms the syntax of all LLMs)\n",
        "- Generating Persona(Characters) by LLM\n",
        "  - Few-shot learning\n",
        "  - Work perfectly with this prompt"
      ],
      "metadata": {
        "id": "EpfHIbuCau-i"
      }
    },
    {
      "cell_type": "code",
      "source": [
        "import time\n",
        "import random\n",
        "\n",
        "from langchain_openai import ChatOpenAI\n",
        "from langchain_core.messages import HumanMessage, SystemMessage, AIMessage\n",
        "from langchain_core.prompts.chat import PromptTemplate\n",
        "\n",
        "def temp_sleep(seconds=0.1):\n",
        "  \"\"\"\n",
        "  Simulate the realistic delay\n",
        "  \"\"\"\n",
        "  time.sleep(seconds)\n",
        "\n",
        "def GPT4_request(prompt:str):\n",
        "  \"\"\"\n",
        "  Given a prompt, make a request to OpenAI server and returns the response.\n",
        "  ARGS:\n",
        "    prompt: a str prompt\n",
        "  RETURNS:\n",
        "    a str of GPT-4's response.\n",
        "  \"\"\"\n",
        "  MODEL = 'gpt-4o-mini'\n",
        "  messages = [\n",
        "    SystemMessage(content=\"user\"),\n",
        "    HumanMessage(content= prompt),\n",
        "    ]\n",
        "\n",
        "  llm = ChatOpenAI(\n",
        "    model=MODEL,\n",
        "    temperature= 0.0,\n",
        "    n= 1,\n",
        "    max_tokens= 256)\n",
        "\n",
        "  return llm.invoke(messages).content\n",
        "\n",
        "def GPT4_generate_persona(name:str):\n",
        "  MODEL = 'gpt-4o-mini'\n",
        "  prompt = f\"\"\"\n",
        "  Please creating information for {name} following the persona template. Don't add extra words.\n",
        "\n",
        "  ----------------------------------------\n",
        "  Template:\n",
        "      name (str): The name of the persona.\n",
        "      age (int): Age of the persona.\n",
        "      gender (str): Gender of the persona.\n",
        "      status (str): Occupation or current status.\n",
        "      hobbies (list): List of hobbies the persona enjoys.\n",
        "      wealth (int): Wealth level (0 to 1000).\n",
        "      favorite_food (str): Persona's favorite food.\n",
        "      nemesis (str or None): Persona's nemesis, if any.\n",
        "      quirky_trait (str or None): A quirky personality trait.\n",
        "  ----------------------------------------\n",
        "  Example:\n",
        "        name=\"Alex\",\n",
        "        age=29,\n",
        "        gender=\"Male\",\n",
        "        status=\"Freelance Illustrator\",\n",
        "        hobbies=[\"painting\", \"cycling\", \"reading sci-fi\"],\n",
        "        wealth=\"550\",\n",
        "        favorite_food=\"Sushi\", \"Ramen\",\n",
        "        nemesis=\"Karen from accounting\",\n",
        "        quirky_trait=\"always wearing mismatched socks\"\n",
        "\n",
        "        name=\"Jill\",\n",
        "        age=27,\n",
        "        gender=\"Female\",\n",
        "        status=\"Software Developer\",\n",
        "        hobbies=[\"hiking\", \"playing video games\", \"cooking\"],\n",
        "        wealth=\"600\",\n",
        "        favorite_food=\"Tacos\",\n",
        "        nemesis=\"The bug in her code\",\n",
        "        quirky_trait=\"collects vintage keychains\"\n",
        "\n",
        "  \"\"\"\n",
        "\n",
        "\n",
        "  messages = [\n",
        "    SystemMessage(content=\"You're a system creating a simulated person\"),\n",
        "    HumanMessage(content= prompt),\n",
        "    ]\n",
        "\n",
        "  llm = ChatOpenAI(\n",
        "    model=MODEL,\n",
        "    temperature= 0.3,\n",
        "    n= 1,\n",
        "    max_tokens= 256)\n",
        "\n",
        "  return llm.invoke(messages).content\n",
        "\n",
        "\n",
        "#Debug ---- remove content in return line to see metadata\n",
        "# print(GPT4_request(\"Hiii, what is your name?\"))"
      ],
      "metadata": {
        "id": "qg3SEvhtXUdl"
      },
      "execution_count": 2,
      "outputs": []
    },
    {
      "cell_type": "markdown",
      "source": [
        "# **2. Persona.py**\n",
        "- Create an object Persona documenting the personal info\n",
        "- Generating Persona(Characters) by LLM\n",
        "  - Few-shot learning\n",
        "  - Work perfectly with this prompt"
      ],
      "metadata": {
        "id": "jZc8aCh3p5gl"
      }
    },
    {
      "cell_type": "code",
      "source": [
        "class Persona:\n",
        "    def __init__(self, name, age, gender, status, hobbies, wealth, favorite_food=\"Pizza\", nemesis=None, quirky_trait=None):\n",
        "        \"\"\"\n",
        "        Initializes a Persona instance with a mix of essential and fun attributes.\n",
        "\n",
        "        Args:\n",
        "            name (str): The name of the persona.\n",
        "            age (int): Age of the persona.\n",
        "            gender (str): Gender of the persona.\n",
        "            status (str): Occupation or current status.\n",
        "            hobbies (list): List of hobbies the persona enjoys.\n",
        "            wealth (int): Wealth level (0 to 1000).\n",
        "            favorite_food (str): Persona's favorite food (default is \"Pizza\").\n",
        "            nemesis (str or None): Persona's nemesis, if any.\n",
        "            quirky_trait (str or None): A quirky personality trait.\n",
        "        \"\"\"\n",
        "        self.name = name\n",
        "        self.age = age\n",
        "        self.gender = gender\n",
        "        self.status = status\n",
        "        self.hobbies = hobbies\n",
        "        self.wealth = wealth  # Clamped between 0 and 1000\n",
        "        self.favorite_food = favorite_food\n",
        "        self.nemesis = nemesis\n",
        "        self.quirky_trait = quirky_trait\n",
        "\n",
        "    def generate_persona_from_gpt(name:str):\n",
        "      gpt_response = GPT4_generate_persona(name)\n",
        "      persona_args = eval(f\"dict({gpt_response})\")\n",
        "      return Persona(**persona_args)\n",
        "\n",
        "    def display_info(self):\n",
        "        \"\"\"Displays basic information about the persona.\"\"\"\n",
        "        print(f\"Name: {self.name}\")\n",
        "        print(f\"Age: {self.age}\")\n",
        "        print(f\"Gender: {self.gender}\")\n",
        "        print(f\"Status: {self.status}\")\n",
        "        print(f\"Hobbies: {', '.join(self.hobbies)}\")\n",
        "        print(f\"Wealth: {self.wealth}\")\n",
        "        print(f\"Favorite Food: {self.favorite_food}\")\n",
        "        print(f\"Nemesis: {self.nemesis}\")\n",
        "        print(f\"Quirky Trait: {self.quirky_trait}\")\n",
        "\n",
        "    def info_to_dict(self):\n",
        "      \"\"\"Returns a dictionary containing the persona's attributes.\"\"\"\n",
        "      return {\n",
        "          \"name\": self.name,\n",
        "          \"age\": self.age,\n",
        "          \"gender\": self.gender,\n",
        "          \"status\": self.status,\n",
        "          \"hobbies\": self.hobbies,\n",
        "          \"wealth\": self.wealth,\n",
        "          \"favorite_food\": self.favorite_food,\n",
        "          \"nemesis\": self.nemesis,\n",
        "          \"quirky_trait\": self.quirky_trait,\n",
        "      }\n",
        "\n",
        "    def info_to_string_story(self):\n",
        "      return f'I am {self.name}. My age is {self.age}. My gender is {self.gender}. My status is {self.status}. My hobbies are {self.hobbies}.\\\n",
        "      My wealth is {self.wealth}. My Favorite food is {self.favorite_food}. My nemesis is {self.nemesis}. My Quirky Trait is {self.quirky_trait}'\n",
        "\n",
        "    def update_info(self, **kwargs):\n",
        "      \"\"\"\n",
        "      Updates the persona's attributes with new values provided as keyword arguments.\n",
        "\n",
        "      Args:\n",
        "          **kwargs: Attribute names as keys and their new values as values.\n",
        "                    Supported attributes: name, age, gender, status, hobbies,\n",
        "                    wealth, favorite_food, nemesis, quirky_trait.\n",
        "      \"\"\"\n",
        "      for key, value in kwargs.items():\n",
        "          if hasattr(self, key):\n",
        "              setattr(self, key, value)\n",
        "              print(f\"Updated {key} to {value}\")\n",
        "          else:\n",
        "              print(f\"Attribute {key} not found in Persona.\")"
      ],
      "metadata": {
        "id": "MA0skNv-sq8J"
      },
      "execution_count": 3,
      "outputs": []
    },
    {
      "cell_type": "markdown",
      "source": [
        "# **3. Talk.py**"
      ],
      "metadata": {
        "id": "IOLjJBq97owK"
      }
    },
    {
      "cell_type": "code",
      "source": [
        "import re\n",
        "from langchain.chains import ConversationChain\n",
        "from langchain.memory import ConversationSummaryBufferMemory\n",
        "from langchain_openai import ChatOpenAI\n",
        "from langchain_core.messages import HumanMessage, SystemMessage, AIMessage\n",
        "from langchain_core.prompts.chat import (\n",
        "    ChatPromptTemplate,\n",
        "    HumanMessagePromptTemplate,\n",
        "    SystemMessagePromptTemplate,\n",
        ")\n",
        "from IPython.display import display_markdown\n",
        "\n",
        "class Talk:\n",
        "  def begin_conversation(persona_name, opposite_persona_name, persona_info, opposite_persona_info):\n",
        "      MODEL = 'gpt-4o-mini'\n",
        "\n",
        "      system_message = (\n",
        "      f\"You are {persona_name}. Here is your background:\\n\"\n",
        "      f\"{persona_info}\\n\\n\"\n",
        "      f\"You are speaking with {opposite_persona_name}, whose background is:\\n\"\n",
        "      f\"{opposite_persona_info}\\n\\n\"\n",
        "      \"Guidelines:\\n\"\n",
        "      \"1. Format answers with markdown.\\n\"\n",
        "      \"2. Answer based on the background information provided.\\n\"\n",
        "      f\"3. Repeat your name before answering (e.g., \\\"{persona_name}: ...\\\").\\n\"\n",
        "      \"4. Stick to the original topic.\\n\"\n",
        "      \"5. Avoid repeating yourself.\\n\"\n",
        "      )\n",
        "\n",
        "\n",
        "      # Create system and human message templates\n",
        "      system_message_template = SystemMessagePromptTemplate.from_template(\n",
        "          system_message\n",
        "      )\n",
        "\n",
        "\n",
        "      human_message_template = HumanMessagePromptTemplate.from_template(\n",
        "          \"\"\"\n",
        "          Conversation: {history}\n",
        "          Human: {input}\n",
        "          \"\"\"\n",
        "      )\n",
        "\n",
        "      # Combine into a ChatPromptTemplate\n",
        "      prompt_template = ChatPromptTemplate.from_messages(\n",
        "          [system_message_template, human_message_template]\n",
        "      )\n",
        "\n",
        "      # Initialize the OpenAI LLM\n",
        "      llm = ChatOpenAI(\n",
        "          model=MODEL,\n",
        "          temperature=0.0,\n",
        "          n=1,\n",
        "          max_tokens= 100\n",
        "      )\n",
        "\n",
        "      # Initialize memory with auto-summarization\n",
        "      memory = ConversationSummaryBufferMemory(llm=llm, max_token_limit=300)\n",
        "\n",
        "      # Build a conversation chain\n",
        "      conversation = ConversationChain(\n",
        "          prompt=prompt_template,\n",
        "          llm=llm,\n",
        "          memory=memory,\n",
        "          verbose=False,\n",
        "      )\n",
        "\n",
        "      return conversation\n",
        "\n",
        "\n",
        "  def chat(conversation, prompt):\n",
        "      \"\"\"\n",
        "      Simulate a single conversational turn.\n",
        "\n",
        "      Args:\n",
        "          conversation: The ConversationChain object.\n",
        "          prompt (str): The message from the human.\n",
        "          name (str): The name of the persona responding.\n",
        "\n",
        "      Returns:\n",
        "          str: The AI's response.\n",
        "      \"\"\"\n",
        "      # Pass the prompt to the conversation chain\n",
        "      response = conversation.invoke({\"input\": prompt})\n",
        "      response_text = response['response']\n",
        "\n",
        "      # Display the response in markdown\n",
        "      display_markdown(f\"{response_text}\", raw=True)\n",
        "      return response_text\n",
        "\n",
        "  def summarize_after_chat(conversation, persona_name, opposite_persona_name, persona_info, opposite_persona_info):\n",
        "      \"\"\"\n",
        "      Summarize the conversation after the last turn.\n",
        "\n",
        "      Args:\n",
        "          conversation: The ConversationChain object.\n",
        "      \"\"\"\n",
        "      SYSTEM_PROMPT = (\n",
        "      f\"You are {persona_name} and the following is your background:\\n\"\n",
        "      f\"Your background:\\n{persona_info}\\n\"\n",
        "      f\"YYou are in a conversation with {opposite_persona_name}, who has the following background information:\\n\"\n",
        "      f\"{opposite_persona_name}'s Background:\\n{opposite_persona_info}\\n\\n\"\n",
        "      f\"During the conversation, identify any changes to your own background information (not {opposite_persona_name}'s). \\\n",
        "      Clearly describe the changes as they apply to your persona only.\\n\"\n",
        "      \"Guidelines:\\n\"\n",
        "      \"1. Format answers with markdown.\\n\"\n",
        "      \"2. Ignore human and AI in the conversation\\n\"\n",
        "      \"3. If your response includes information that would result in\\\n",
        "       a change to your background({name, age, gender, status, hobbies, wealth, favorite_food, nemesis, quirky_trait}),\\\n",
        "        please repeat the change in the following format: <changeCategoryBefore></changeCategoryBefore> and <changeCategoryAfter></changeCategoryAfter>\\n\"\n",
        "      \"4. Reason your change, if it doesn't make sense, reconsider again\"\n",
        "      \"Example:\\nBelly borrow 50 from Cindy. Belly's wealth is growing from <wealthBefore>300</wealthBefore> to <wealthAfter>350</wealthAfter>\\n\\\n",
        "      Cindy lend 50 to Cindy. Cindy's wealth is decreasing from <wealthBefore>1000</wealthBefore> to <wealthAfter>950</wealthAfter>\"\n",
        "      )\n",
        "\n",
        "      HUMAN_PROMPT = conversation.memory.buffer\n",
        "      # print(HUMAN_PROMPT)\n",
        "\n",
        "      MODEL = 'gpt-4o-mini'\n",
        "      messages = [\n",
        "        SystemMessage(content = SYSTEM_PROMPT),\n",
        "        HumanMessage(content = HUMAN_PROMPT),\n",
        "        ]\n",
        "\n",
        "      llm = ChatOpenAI(\n",
        "        model=MODEL,\n",
        "        temperature= 0.0,\n",
        "        n= 1,\n",
        "        max_tokens= 300)\n",
        "\n",
        "      return llm.invoke(messages).content\n",
        "\n",
        "  # def summarize_for_diary(conversation, persona_name, opposite_persona_name, persona_info, opposite_persona_info):\n",
        "\n",
        "\n",
        "  def retrieve_and_upgrade_persona(persona, summary):\n",
        "      \"\"\"\n",
        "      Extracts 'after' updates for the fields: name, age, gender, status, hobbies,\n",
        "      wealth, favorite_food, nemesis, quirky_trait from a summary and updates the Persona object.\n",
        "\n",
        "      Args:\n",
        "          persona (Persona): The Persona object to update.\n",
        "          summary (str): The string containing updates with after values.\n",
        "      \"\"\"\n",
        "      print(summary)\n",
        "      # Define the attributes and their regex patterns for 'after'\n",
        "      attributes = [\"name\", \"age\", \"gender\", \"status\", \"hobbies\", \"wealth\", \"favorite_food\", \"nemesis\", \"quirky_trait\"]\n",
        "      updates = {}\n",
        "\n",
        "      for attribute in attributes:\n",
        "          after_pattern = rf\"<{attribute}After>(.*?)</{attribute}After>\"\n",
        "\n",
        "          after_match = re.search(after_pattern, summary)\n",
        "\n",
        "          if after_match:\n",
        "              value = after_match.group(1)\n",
        "              # Parse hobbies if the attribute is 'hobbies'\n",
        "              if attribute == \"hobbies\":\n",
        "                  # Convert the hobbies string to a Python list\n",
        "                  value = [hobby.strip() for hobby in value.split(',') if hobby.strip()]\n",
        "              updates[attribute] = value\n",
        "\n",
        "      # Update the persona object using the update_info method\n",
        "      persona.update_info(**updates)\n",
        "\n",
        "  def persona_to_persona_chat(persona_1, persona_2, persona_2_intro, rounds=5):\n",
        "      \"\"\"\n",
        "      Simulates a conversation between two personas using ConversationChain.\n",
        "\n",
        "      Args:\n",
        "          persona_1_name (str): The name of the first persona.\n",
        "          persona_2_name (str): The name of the second persona.\n",
        "          persona_2_intro (str): The introductory message from Persona 2.\n",
        "          rounds (int): Number of conversational exchanges.\n",
        "      \"\"\"\n",
        "      persona_1_name = persona_1.name\n",
        "      persona_2_name = persona_2.name\n",
        "      persona_1_info = persona_1.info_to_string_story()\n",
        "      persona_2_info = persona_2.info_to_string_story()\n",
        "\n",
        "\n",
        "\n",
        "      # Initialize two separate conversations for each persona\n",
        "      persona_1_conversation = Talk.begin_conversation(persona_1_name, persona_2_name, persona_1_info, persona_2_info)\n",
        "      persona_2_conversation = Talk.begin_conversation(persona_2_name, persona_1_name, persona_2_info, persona_1_info)\n",
        "\n",
        "      persona_2_intro = f\"{persona_2_name}: {persona_2_intro}.\"\n",
        "\n",
        "      # Start the conversation\n",
        "      print(\"=== Conversation Start ===\")\n",
        "      persona_1_response = Talk.chat(persona_1_conversation, persona_2_intro)\n",
        "\n",
        "      # persona_1_response = f\"{persona_2_name}: {persona_2_intro}\\n {persona_1_response}\"\n",
        "      persona_1_response = f\"{persona_2_name}: {persona_2_intro}\\n {persona_1_name}: {persona_1_response}.\"\n",
        "      for i in range(rounds):\n",
        "          persona_2_response = Talk.chat(persona_2_conversation, persona_1_response)\n",
        "          persona_1_response = Talk.chat(persona_1_conversation, persona_2_response)\n",
        "      print(\"=== Conversation End ===\")\n",
        "      Talk.retrieve_and_upgrade_persona(persona_1, Talk.summarize_after_chat(persona_1_conversation, persona_1_name, persona_2_name, persona_1_info, persona_2_info))\n",
        "      Talk.retrieve_and_upgrade_persona(persona_2, Talk.summarize_after_chat(persona_2_conversation, persona_2_name, persona_1_name, persona_2_info, persona_1_info))\n",
        "\n",
        "\n",
        "      # print(f\"Summary: {Talk.summarize_after_chat(persona_1_conversation, persona_1_name, persona_2_name, persona_1_info, persona_2_info)}\")\n",
        "      # print(f\"Summary: {Talk.summarize_after_chat(persona_2_conversation, persona_2_name, persona_1_name, persona_2_info, persona_1_info)}\")\n"
      ],
      "metadata": {
        "id": "QiE0R-9vZ4-7"
      },
      "execution_count": 4,
      "outputs": []
    },
    {
      "cell_type": "markdown",
      "source": [
        "# **4. Run here!**"
      ],
      "metadata": {
        "id": "J8gbNoZs8A1b"
      }
    },
    {
      "cell_type": "code",
      "source": [
        "persona_lea = Persona.generate_persona_from_gpt(\"Lea\")\n",
        "persona_alex = Persona(\n",
        "    name=\"Alex\",\n",
        "    age=29,\n",
        "    gender=\"Male\",\n",
        "    status=\"Teacher\",\n",
        "    hobbies=[\"painting\", \"cycling\", \"reading sci-fi\"],\n",
        "    wealth=\"550\",\n",
        "    favorite_food=\"Sushi\",\n",
        "    nemesis=\"Karen from accounting\",\n",
        "    quirky_trait=\"always wearing mismatched socks\"\n",
        ")\n",
        "Persona.display_info(persona_lea)"
      ],
      "metadata": {
        "id": "DSaC0AAVxtUm",
        "outputId": "2c6ef695-9957-4f96-f265-050e3ae1eefa",
        "colab": {
          "base_uri": "https://localhost:8080/"
        }
      },
      "execution_count": 5,
      "outputs": [
        {
          "output_type": "stream",
          "name": "stdout",
          "text": [
            "Name: Lea\n",
            "Age: 32\n",
            "Gender: Female\n",
            "Status: Graphic Designer\n",
            "Hobbies: photography, traveling, yoga\n",
            "Wealth: 450\n",
            "Favorite Food: Pasta\n",
            "Nemesis: The printer that always jams\n",
            "Quirky Trait: talks to her plants\n"
          ]
        }
      ]
    },
    {
      "cell_type": "markdown",
      "source": [
        "## **4.1 Case 1: Asking Alex to provide more money than he has**\n",
        "**Observation:** Alex know he doesn't have that much money.  \n",
        "**Problem:** The reply contains too much info...need to fix the prompt."
      ],
      "metadata": {
        "id": "Wz1yA8Xr8nY3"
      }
    },
    {
      "cell_type": "code",
      "source": [
        "# Define persona information\n",
        "persona_1_name = \"Alex\"\n",
        "persona_2_name = \"Lea\"\n",
        "persona_2_intro = \"Can I borrow 1000 from you?\"\n",
        "persona_2_info = persona_lea.info_to_string_story()\n",
        "persona_1_info = persona_alex.info_to_string_story()\n",
        "\n",
        "# Simulate their conversation\n",
        "Talk.persona_to_persona_chat(persona_alex, persona_lea, persona_2_intro, rounds=1)\n",
        "# persona_to_persona_chat(persona_1_name, persona_2_name, persona_2_intro, rounds=5)"
      ],
      "metadata": {
        "id": "DJciKHlKjYPO",
        "outputId": "7377cccd-68c8-4b79-fb80-859d4033a2bf",
        "colab": {
          "base_uri": "https://localhost:8080/",
          "height": 272
        }
      },
      "execution_count": 7,
      "outputs": [
        {
          "output_type": "stream",
          "name": "stdout",
          "text": [
            "=== Conversation Start ===\n"
          ]
        },
        {
          "output_type": "display_data",
          "data": {
            "text/markdown": "Alex: I appreciate you asking, Lea, but I'm not in a position to lend that amount right now. My wealth is a bit limited at 550. Maybe we can brainstorm some other options together?"
          },
          "metadata": {}
        },
        {
          "output_type": "display_data",
          "data": {
            "text/markdown": "Lea: I completely understand, Alex. It's tough when finances are tight. Maybe we can think of some creative ways to save or earn a little extra? I could even design some promotional materials for you if you're looking to sell some of your artwork!"
          },
          "metadata": {}
        },
        {
          "output_type": "display_data",
          "data": {
            "text/markdown": "Alex: That sounds like a great idea, Lea! I could definitely use some help promoting my artwork. Your graphic design skills would really make a difference. Plus, I love the idea of collaborating creatively. Let's brainstorm some promotional concepts together!"
          },
          "metadata": {}
        },
        {
          "output_type": "stream",
          "name": "stdout",
          "text": [
            "=== Conversation End ===\n",
            "In this conversation, there are no changes to my background information. My wealth remains at 550, and I continue to be a teacher with my hobbies, favorite food, nemesis, and quirky trait unchanged. \n",
            "\n",
            "Therefore, no changes to report.\n",
            "No changes to my background information occurred during this conversation.\n"
          ]
        }
      ]
    },
    {
      "cell_type": "markdown",
      "source": [
        "## **4.2 Borrow reasonable money from Alex**  \n",
        "**Observation:**\n",
        "1. Alex know he can lend the money to Lea.\n",
        "2. Summary system know this would change both people's wealth.\n",
        "3. Upgrade info retrieval method can identify the change.\n",
        "**Problem:** Summary system made some mistake at some point."
      ],
      "metadata": {
        "id": "HF2GvM6N8vIG"
      }
    },
    {
      "cell_type": "code",
      "source": [
        "# Define persona information\n",
        "persona_1_name = \"Alex\"\n",
        "persona_2_name = \"Lea\"\n",
        "persona_2_intro = \"Can I borrow 20 from you? I'll give you back in a month\"\n",
        "persona_2_info = persona_lea.info_to_string_story()\n",
        "persona_1_info = persona_alex.info_to_string_story()\n",
        "\n",
        "# Simulate their conversation\n",
        "Talk.persona_to_persona_chat(persona_alex, persona_lea, persona_2_intro, rounds=2)"
      ],
      "metadata": {
        "id": "K1ptqSEY8-x2",
        "outputId": "f14bd5a9-fc38-4e11-a502-69684328c970",
        "colab": {
          "base_uri": "https://localhost:8080/",
          "height": 370
        }
      },
      "execution_count": 8,
      "outputs": [
        {
          "output_type": "stream",
          "name": "stdout",
          "text": [
            "=== Conversation Start ===\n"
          ]
        },
        {
          "output_type": "display_data",
          "data": {
            "text/markdown": "Alex: Sure, Lea! I can lend you the 20. Just let me know when you need it back."
          },
          "metadata": {}
        },
        {
          "output_type": "display_data",
          "data": {
            "text/markdown": "Lea: Thanks, Alex! I really appreciate it. I promise to pay you back in a month. By the way, have you been painting anything interesting lately?"
          },
          "metadata": {}
        },
        {
          "output_type": "display_data",
          "data": {
            "text/markdown": "Alex: You're welcome, Lea! I'm glad to help. As for painting, I've been working on a piece inspired by sci-fi themes. It's a bit abstract, but I'm really enjoying the process. How about you? Have you been working on any photography projects?"
          },
          "metadata": {}
        },
        {
          "output_type": "display_data",
          "data": {
            "text/markdown": "Lea: That sounds intriguing, Alex! I love the idea of combining sci-fi with abstract art. As for me, I've been focusing on capturing some travel moments lately. I recently went to a beautiful place and took some stunning shots. Do you have a favorite sci-fi book that inspires your painting?"
          },
          "metadata": {}
        },
        {
          "output_type": "display_data",
          "data": {
            "text/markdown": "Alex: Thanks, Lea! I'm glad you find it intriguing. One of my favorite sci-fi books is \"Dune\" by Frank Herbert. The world-building and themes really inspire my creativity. What about you? Do you have a favorite travel destination that has influenced your photography?"
          },
          "metadata": {}
        },
        {
          "output_type": "stream",
          "name": "stdout",
          "text": [
            "=== Conversation End ===\n",
            "During the conversation, I lent Lea 20, which affects my wealth. \n",
            "\n",
            "My wealth is decreasing from <wealthBefore>550</wealthBefore> to <wealthAfter>530</wealthAfter>. \n",
            "\n",
            "This change reflects the amount I lent to Lea, and I will expect to receive it back in a month.\n",
            "Updated wealth to 530\n",
            "Lea's wealth is decreasing from <wealthBefore>450</wealthBefore> to <wealthAfter>430</wealthAfter> due to borrowing 20 from Alex.\n",
            "Updated wealth to 430\n"
          ]
        }
      ]
    },
    {
      "cell_type": "code",
      "source": [
        "Persona.display_info(persona_alex)\n",
        "Persona.display_info(persona_lea)"
      ],
      "metadata": {
        "colab": {
          "base_uri": "https://localhost:8080/"
        },
        "id": "BZjt6mg3Ye0I",
        "outputId": "4e8dd4cf-4ca8-4d94-f8c8-e7eb81daacea"
      },
      "execution_count": 9,
      "outputs": [
        {
          "output_type": "stream",
          "name": "stdout",
          "text": [
            "Name: Alex\n",
            "Age: 29\n",
            "Gender: Male\n",
            "Status: Teacher\n",
            "Hobbies: painting, cycling, reading sci-fi\n",
            "Wealth: 530\n",
            "Favorite Food: Sushi\n",
            "Nemesis: Karen from accounting\n",
            "Quirky Trait: always wearing mismatched socks\n",
            "Name: Lea\n",
            "Age: 32\n",
            "Gender: Female\n",
            "Status: Graphic Designer\n",
            "Hobbies: photography, traveling, yoga\n",
            "Wealth: 430\n",
            "Favorite Food: Pasta\n",
            "Nemesis: The printer that always jams\n",
            "Quirky Trait: talks to her plants\n"
          ]
        }
      ]
    },
    {
      "cell_type": "markdown",
      "source": [
        "# **5. Diary.py**"
      ],
      "metadata": {
        "id": "JwFDkgStFZp7"
      }
    },
    {
      "cell_type": "code",
      "source": [
        "class Diary:\n",
        "    def __init__(self):\n",
        "        \"\"\"\n",
        "        Initialize the Diary class with an empty dictionary to store events.\n",
        "        \"\"\"\n",
        "        self.events = {}\n",
        "\n",
        "    def add_event(self, date, description):\n",
        "        \"\"\"\n",
        "        Add a new event to the diary.\n",
        "\n",
        "        :param date: The date of the event (string format: 'YYYY-MM-DD').\n",
        "        :param description: A description of the event (string).\n",
        "        \"\"\"\n",
        "        if date in self.events:\n",
        "            self.events[date].append(description)\n",
        "        else:\n",
        "            self.events[date] = [description]\n",
        "        print(f\"Event added for {date}: {description}\")\n",
        "\n",
        "    def view_events(self, date):\n",
        "        \"\"\"\n",
        "        View all events for a specific date.\n",
        "\n",
        "        :param date: The date to view events (string format: 'YYYY-MM-DD').\n",
        "        :return: A list of events for the specified date or a message if no events exist.\n",
        "        \"\"\"\n",
        "        if date in self.events:\n",
        "            return self.events[date]\n",
        "        else:\n",
        "            return f\"No events found for {date}.\"\n",
        "\n",
        "    def delete_event(self, date, description):\n",
        "        \"\"\"\n",
        "        Delete a specific event from a specific date.\n",
        "\n",
        "        :param date: The date of the event to delete (string format: 'YYYY-MM-DD').\n",
        "        :param description: The description of the event to delete (string).\n",
        "        \"\"\"\n",
        "        if date in self.events:\n",
        "            try:\n",
        "                self.events[date].remove(description)\n",
        "                print(f\"Event removed for {date}: {description}\")\n",
        "                if not self.events[date]:  # If the list for that date is empty, remove the key\n",
        "                    del self.events[date]\n",
        "            except ValueError:\n",
        "                print(f\"Event not found for {date}: {description}\")\n",
        "        else:\n",
        "            print(f\"No events found for {date}.\")\n",
        "\n",
        "    def list_all_events(self):\n",
        "        \"\"\"\n",
        "        List all events in the diary.\n",
        "\n",
        "        :return: A dictionary containing all events or a message if the diary is empty.\n",
        "        \"\"\"\n",
        "        if self.events:\n",
        "            return self.events\n",
        "        else:\n",
        "            return \"No events in the diary.\"\n",
        "\n",
        "# Example usage:\n",
        "if __name__ == \"__main__\":\n",
        "    my_diary = Diary()\n",
        "    my_diary.add_event(\"2024-12-18\", \"Submit thesis\")\n",
        "    my_diary.add_event(\"2024-12-18\", \"Celebrate with friends\")\n",
        "    my_diary.add_event(\"2024-12-19\", \"Plan holiday trip\")\n",
        "\n",
        "    # print(my_diary.view_events(\"2024-12-18\"))\n",
        "    # my_diary.delete_event(\"2024-12-18\", \"Submit thesis\")\n",
        "    # print(my_diary.view_events(\"2024-12-18\"))\n",
        "    print(my_diary.list_all_events())\n",
        "\n"
      ],
      "metadata": {
        "colab": {
          "base_uri": "https://localhost:8080/"
        },
        "id": "h5KYYHj7Ff_C",
        "outputId": "d6bb3c9d-9389-4faf-bde6-983e00edc479"
      },
      "execution_count": 3,
      "outputs": [
        {
          "output_type": "stream",
          "name": "stdout",
          "text": [
            "Event added for 2024-12-18: Submit thesis\n",
            "Event added for 2024-12-18: Celebrate with friends\n",
            "Event added for 2024-12-19: Plan holiday trip\n",
            "{'2024-12-18': ['Submit thesis', 'Celebrate with friends'], '2024-12-19': ['Plan holiday trip']}\n"
          ]
        }
      ]
    },
    {
      "cell_type": "markdown",
      "source": [
        "# **98. What to do next**"
      ],
      "metadata": {
        "id": "Wmp01CKiDSMl"
      }
    },
    {
      "cell_type": "markdown",
      "source": [
        "1. Retrieve new info from a conversation, and then upgrade the Persona."
      ],
      "metadata": {
        "id": "WpZSm_LrDXvY"
      }
    },
    {
      "cell_type": "markdown",
      "source": [
        "# **99. Working History**"
      ],
      "metadata": {
        "id": "7QDh1xX_Co0r"
      }
    },
    {
      "cell_type": "markdown",
      "source": [
        "- 2024.12.16 ---- Rewrite the prompt in SystemMessage(GPT4_generate_persona)"
      ],
      "metadata": {
        "id": "KeyMuE7ICzAT"
      }
    }
  ]
}