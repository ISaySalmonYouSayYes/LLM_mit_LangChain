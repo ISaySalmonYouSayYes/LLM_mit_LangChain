{
  "nbformat": 4,
  "nbformat_minor": 0,
  "metadata": {
    "colab": {
      "provenance": [],
      "authorship_tag": "ABX9TyN0MjoXx7HglSC2befbgp1b",
      "include_colab_link": true
    },
    "kernelspec": {
      "name": "python3",
      "display_name": "Python 3"
    },
    "language_info": {
      "name": "python"
    }
  },
  "cells": [
    {
      "cell_type": "markdown",
      "metadata": {
        "id": "view-in-github",
        "colab_type": "text"
      },
      "source": [
        "<a href=\"https://colab.research.google.com/github/ISaySalmonYouSayYes/LLM_mit_LangChain/blob/main/LLM_Agent_Simulate_exp.ipynb\" target=\"_parent\"><img src=\"https://colab.research.google.com/assets/colab-badge.svg\" alt=\"Open In Colab\"/></a>"
      ]
    },
    {
      "cell_type": "markdown",
      "source": [
        "# **0. Before you start**\n",
        "- The document is [Here](https://github.com/ISaySalmonYouSayYes/LLM_mit_LangChain/blob/main/simulate_exp.md)  \n",
        "- Contents is always your best friend:P"
      ],
      "metadata": {
        "id": "mLuZ4f4xaX5h"
      }
    },
    {
      "cell_type": "code",
      "execution_count": null,
      "metadata": {
        "id": "UiGADgqrXT02"
      },
      "outputs": [],
      "source": [
        "import os\n",
        "\n",
        "try:\n",
        "    from google.colab import drive, userdata\n",
        "    COLAB = True\n",
        "    print(\"Note: using Google CoLab\")\n",
        "except:\n",
        "    print(\"Note: not using Google CoLab\")\n",
        "    COLAB = False\n",
        "\n",
        "# OpenAI Secrets\n",
        "if COLAB:\n",
        "    os.environ[\"OPENAI_API_KEY\"] = userdata.get('openAI_Key')\n",
        "\n",
        "# Install needed libraries in CoLab\n",
        "if COLAB:\n",
        "    !pip install langchain langchain_openai\n",
        "    !pip install langgraph\n",
        "\n",
        "# Install needed libraries in CoLab\n",
        "if COLAB:\n",
        "    !pip install langchain langchain_openai langchain_experimental langchainhub sentence-transformers"
      ]
    },
    {
      "cell_type": "markdown",
      "source": [
        "# **1. GPT-related method**  \n",
        "- Using GPT4.0-mini mit Langchain(A library uniforms the syntax of all LLMs)\n",
        "- Generating Persona(Characters) by LLM\n",
        "  - Few-shot learning\n",
        "  - Work perfectly with this prompt"
      ],
      "metadata": {
        "id": "EpfHIbuCau-i"
      }
    },
    {
      "cell_type": "code",
      "source": [
        "import random\n",
        "\n",
        "from langchain_openai import ChatOpenAI\n",
        "from langchain_core.messages import HumanMessage, SystemMessage, AIMessage\n",
        "from langchain_core.prompts.chat import PromptTemplate\n",
        "\n",
        "def GPT4_request(prompt:str):\n",
        "  \"\"\"\n",
        "  Given a prompt, make a request to OpenAI server and returns the response.\n",
        "  ARGS:\n",
        "    prompt: a str prompt\n",
        "  RETURNS:\n",
        "    a str of GPT-4's response.\n",
        "  \"\"\"\n",
        "  MODEL = 'gpt-4o-mini'\n",
        "  messages = [\n",
        "    SystemMessage(content=\"user\"),\n",
        "    HumanMessage(content= prompt),\n",
        "    ]\n",
        "\n",
        "  llm = ChatOpenAI(\n",
        "    model=MODEL,\n",
        "    temperature= 0.0,\n",
        "    n= 1,\n",
        "    max_tokens= 256)\n",
        "\n",
        "  return llm.invoke(messages).content\n",
        "\n",
        "def GPT4_generate_persona(name:str):\n",
        "  MODEL = 'gpt-4o-mini'\n",
        "  prompt = f\"\"\"\n",
        "  Please creating information for {name} following the persona template. Don't add extra words.\n",
        "\n",
        "  ----------------------------------------\n",
        "  Template:\n",
        "      name (str): The name of the persona.\n",
        "      age (str): Age of the persona.\n",
        "      gender (str): Gender of the persona.(Only Female, and Male)\n",
        "      status (str): Occupation or current status.\n",
        "      hobbies (list): List of hobbies the persona enjoys.\n",
        "      wealth (str): Wealth level (0 to 1000).\n",
        "      belongings (list): Persona's belongings.\n",
        "      religious (str): Persona's religious\n",
        "      ethnicity (str): Persona's ethnicity.\n",
        "  ----------------------------------------\n",
        "  Example:\n",
        "        {\n",
        "            \"name\": \"Koichiro\",\n",
        "            \"age\": \"29\",\n",
        "            \"gender\": \"Male\",\n",
        "            \"status\": \"Student\",\n",
        "            \"hobbies\": [\"painting\", \"cycling\", \"reading sci-fi\"],\n",
        "            \"wealth\": \"550\",\n",
        "            \"belongings\": [\"book\"],\n",
        "            \"religious\": \"Buddhism\",\n",
        "            \"ethnicity\": \"Japanese\"\n",
        "        }\n",
        "\n",
        "\n",
        "        {\n",
        "            \"name\": \"Jill\",\n",
        "            \"age\": \"27\",\n",
        "            \"gender\": \"Female\",\n",
        "            \"status\": \"Software Developer\",\n",
        "            \"hobbies\": [\"hiking\", \"playing video games\", \"cooking\"],\n",
        "            \"wealth\": \"900\",\n",
        "            \"belongings\": [\"water bottle\", \"pencil\", \"knife\"],\n",
        "            \"religious\": \"Catholic\",\n",
        "            \"ethnicity\": \"German\"\n",
        "        }\n",
        "\n",
        "        {\n",
        "            \"name\": \"Midori\",\n",
        "            \"age\": \"25\",\n",
        "            \"gender\": \"Female\",\n",
        "            \"status\": \"Graphic Designer\",\n",
        "            \"hobbies\": [\"drawing\", \"photography\", \"traveling\"],\n",
        "            \"wealth\": \"700\",\n",
        "            \"belongings\": [\"laptop\", \"camera\", \"sketchbook\"],\n",
        "            \"religious\": \"Shinto\",\n",
        "            \"ethnicity\": \"Japanese\"\n",
        "        }\n",
        "\n",
        "\n",
        "  \"\"\"\n",
        "\n",
        "\n",
        "  messages = [\n",
        "    SystemMessage(content=\"You're a system creating a simulated person\"),\n",
        "    HumanMessage(content= prompt),\n",
        "    ]\n",
        "\n",
        "  llm = ChatOpenAI(\n",
        "    model=MODEL,\n",
        "    temperature= 1.2,\n",
        "    n= 1,\n",
        "    max_tokens= 256)\n",
        "\n",
        "  return llm.invoke(messages).content\n",
        "\n",
        "\n",
        "#Debug ---- remove content in return line to see metadata\n",
        "# print(GPT4_request(\"Hiii, what is your name?\"))"
      ],
      "metadata": {
        "id": "qg3SEvhtXUdl"
      },
      "execution_count": 20,
      "outputs": []
    },
    {
      "cell_type": "markdown",
      "source": [
        "# **2. Persona.py**\n",
        "- Create an object Persona documenting the personal info\n",
        "- Generating Persona(Characters) by LLM\n",
        "  - Few-shot learning\n",
        "  - Work perfectly with this prompt"
      ],
      "metadata": {
        "id": "jZc8aCh3p5gl"
      }
    },
    {
      "cell_type": "code",
      "source": [
        "class Persona:\n",
        "    def __init__(self, name, age, gender, status, hobbies, wealth, belongings, religious = None, ethnicity=None):\n",
        "        \"\"\"\n",
        "        Initializes a Persona instance with a mix of essential and fun attributes.\n",
        "\n",
        "        Args:\n",
        "            name (str): The name of the persona.\n",
        "            age (int): Age of the persona.\n",
        "            gender (str): Gender of the persona.\n",
        "            status (str): Occupation or current status.\n",
        "            hobbies (list): List of hobbies the persona enjoys.\n",
        "            wealth (int): Wealth level.\n",
        "            belongings (list): Persona's belongings.\n",
        "            religious (str): Persona's religious\n",
        "            ethnicity (str): Persona's ethnicity\n",
        "        \"\"\"\n",
        "        self.name = name\n",
        "        self.age = age\n",
        "        self.gender = gender\n",
        "        self.status = status\n",
        "        self.hobbies = hobbies\n",
        "        self.wealth = wealth\n",
        "        self.belongings = belongings\n",
        "        self.religious = religious\n",
        "        self.ethnicity = ethnicity\n",
        "\n",
        "    def generate_persona_from_gpt(name:str):\n",
        "      gpt_response = GPT4_generate_persona(name)\n",
        "      persona_args = eval(f\"dict({gpt_response})\")\n",
        "      return Persona(**persona_args)\n",
        "\n",
        "    def display_info(self):\n",
        "        \"\"\"Displays basic information about the persona.\"\"\"\n",
        "        print(f\"Name: {self.name}\")\n",
        "        print(f\"Age: {self.age}\")\n",
        "        print(f\"Gender: {self.gender}\")\n",
        "        print(f\"Status: {self.status}\")\n",
        "        print(f\"Hobbies: {self.hobbies}\")\n",
        "        print(f\"Wealth: {self.wealth}\")\n",
        "        print(f\"Belongings: {self.belongings}\")\n",
        "        print(f\"Religious: {self.religious}\")\n",
        "        print(f\"Ethnicity: {self.ethnicity}\")\n",
        "\n",
        "    def info_to_dict(self):\n",
        "      \"\"\"Returns a dictionary containing the persona's attributes.\"\"\"\n",
        "      return {\n",
        "          \"name\": self.name,\n",
        "          \"age\": self.age,\n",
        "          \"gender\": self.gender,\n",
        "          \"status\": self.status,\n",
        "          \"hobbies\": self.hobbies,\n",
        "          \"wealth\": self.wealth,\n",
        "          \"belongings\": self.belongings,\n",
        "          \"religious\": self.religious,\n",
        "          \"ethnicity\": self.ethnicity,\n",
        "      }\n",
        "\n",
        "    def info_to_string_story(self):\n",
        "      return f'I am {self.name}. My age is {self.age}. My gender is {self.gender}. My status is {self.status}. My hobbies are {self.hobbies}.\\\n",
        "      My wealth is {self.wealth}. My belongings is {self.belongings}. My religious is {self.religious}. My ethnicity is {self.ethnicity}'\n",
        "\n",
        "    def update_info(self, **kwargs):\n",
        "      \"\"\"\n",
        "      Updates the persona's attributes with new values provided as keyword arguments.\n",
        "\n",
        "      Args:\n",
        "          **kwargs: Attribute names as keys and their new values as values.\n",
        "                    Supported attributes: name, age, gender, status, hobbies,\n",
        "                    wealth, belongings, religious, ethnicity.\n",
        "      \"\"\"\n",
        "      for key, value in kwargs.items():\n",
        "          if hasattr(self, key):\n",
        "              setattr(self, key, value)\n",
        "              print(f\"Updated {key} to {value}\")\n",
        "          else:\n",
        "              print(f\"Attribute {key} not found in Persona.\")"
      ],
      "metadata": {
        "id": "MA0skNv-sq8J"
      },
      "execution_count": 15,
      "outputs": []
    },
    {
      "cell_type": "markdown",
      "source": [
        "# **3. Talk.py**"
      ],
      "metadata": {
        "id": "IOLjJBq97owK"
      }
    },
    {
      "cell_type": "code",
      "source": [
        "import re\n",
        "from langchain.chains import ConversationChain\n",
        "from langchain.memory import ConversationSummaryBufferMemory\n",
        "from langchain_openai import ChatOpenAI\n",
        "from langchain_core.messages import HumanMessage, SystemMessage, AIMessage\n",
        "from langchain_core.prompts.chat import (\n",
        "    ChatPromptTemplate,\n",
        "    HumanMessagePromptTemplate,\n",
        "    SystemMessagePromptTemplate,\n",
        ")\n",
        "from IPython.display import display_markdown\n",
        "\n",
        "class Talk:\n",
        "  def begin_conversation(persona_name, opposite_persona_name, persona_info, opposite_persona_info):\n",
        "      MODEL = 'gpt-4o-mini'\n",
        "\n",
        "      system_message = (\n",
        "      f\"You are {persona_name}. Here is your background:\\n\"\n",
        "      f\"{persona_info}\\n\\n\"\n",
        "      f\"You are speaking with {opposite_persona_name}, whose background is:\\n\"\n",
        "      f\"{opposite_persona_info}\\n\\n\"\n",
        "      \"Guidelines:\\n\"\n",
        "      \"1. Format answers with markdown.\\n\"\n",
        "      \"2. Answer based on the background information provided.\\n\"\n",
        "      f\"3. Repeat your name before answering (e.g., \\\"{persona_name}: ...\\\").\\n\"\n",
        "      \"4. Stick to the original topic.\\n\"\n",
        "      \"5. Avoid repeating yourself.\\n\"\n",
        "      )\n",
        "\n",
        "\n",
        "      # Create system and human message templates\n",
        "      system_message_template = SystemMessagePromptTemplate.from_template(\n",
        "          system_message\n",
        "      )\n",
        "\n",
        "\n",
        "      human_message_template = HumanMessagePromptTemplate.from_template(\n",
        "          \"\"\"\n",
        "          Conversation: {history}\n",
        "          Human: {input}\n",
        "          \"\"\"\n",
        "      )\n",
        "\n",
        "      # Combine into a ChatPromptTemplate\n",
        "      prompt_template = ChatPromptTemplate.from_messages(\n",
        "          [system_message_template, human_message_template]\n",
        "      )\n",
        "\n",
        "      # Initialize the OpenAI LLM\n",
        "      llm = ChatOpenAI(\n",
        "          model=MODEL,\n",
        "          temperature=0.0,\n",
        "          n=1,\n",
        "          max_tokens= 100\n",
        "      )\n",
        "\n",
        "      # Initialize memory with auto-summarization\n",
        "      memory = ConversationSummaryBufferMemory(llm=llm, max_token_limit=300)\n",
        "\n",
        "      # Build a conversation chain\n",
        "      conversation = ConversationChain(\n",
        "          prompt=prompt_template,\n",
        "          llm=llm,\n",
        "          memory=memory,\n",
        "          verbose=False,\n",
        "      )\n",
        "\n",
        "      return conversation\n",
        "\n",
        "\n",
        "  def chat(conversation, prompt):\n",
        "      \"\"\"\n",
        "      Simulate a single conversational turn.\n",
        "\n",
        "      Args:\n",
        "          conversation: The ConversationChain object.\n",
        "          prompt (str): The message from the human.\n",
        "          name (str): The name of the persona responding.\n",
        "\n",
        "      Returns:\n",
        "          str: The AI's response.\n",
        "      \"\"\"\n",
        "      # Pass the prompt to the conversation chain\n",
        "      response = conversation.invoke({\"input\": prompt})\n",
        "      response_text = response['response']\n",
        "\n",
        "      # Display the response in markdown\n",
        "      display_markdown(f\"{response_text}\", raw=True)\n",
        "      return response_text\n",
        "\n",
        "  def summarize_after_chat(conversation, persona_name, opposite_persona_name, persona_info, opposite_persona_info):\n",
        "      \"\"\"\n",
        "      Summarize the conversation after the last turn.\n",
        "\n",
        "      Args:\n",
        "          conversation: The ConversationChain object.\n",
        "      \"\"\"\n",
        "      SYSTEM_PROMPT = (\n",
        "      f\"You are {persona_name} and the following is your background:\\n\"\n",
        "      f\"Your background:\\n{persona_info}\\n\"\n",
        "      f\"YYou are in a conversation with {opposite_persona_name}, who has the following background information:\\n\"\n",
        "      f\"{opposite_persona_name}'s Background:\\n{opposite_persona_info}\\n\\n\"\n",
        "      f\"During the conversation, identify any changes to your own background information (not {opposite_persona_name}'s). \\\n",
        "      Clearly describe the changes as they apply to your persona only.\\n\"\n",
        "      \"Guidelines:\\n\"\n",
        "      \"1. Format answers with markdown.\\n\"\n",
        "      \"2. Ignore human and AI in the conversation\\n\"\n",
        "      \"3. If your response includes information that would result in\\\n",
        "       a change to your background({name, age, gender, status, hobbies, wealth, favorite_food, nemesis, quirky_trait}),\\\n",
        "        please repeat the change in the following format: <changeCategoryBefore></changeCategoryBefore> and <changeCategoryAfter></changeCategoryAfter>\\n\"\n",
        "      \"4. Reason your change, if it doesn't make sense, reconsider again\"\n",
        "      \"Example:\\nBelly borrow 50 from Cindy. Belly's wealth is growing from <wealthBefore>300</wealthBefore> to <wealthAfter>350</wealthAfter>\\n\\\n",
        "      Cindy lend 50 to Cindy. Cindy's wealth is decreasing from <wealthBefore>1000</wealthBefore> to <wealthAfter>950</wealthAfter>\"\n",
        "      )\n",
        "\n",
        "      HUMAN_PROMPT = conversation.memory.buffer\n",
        "      # print(HUMAN_PROMPT)\n",
        "\n",
        "      MODEL = 'gpt-4o-mini'\n",
        "      messages = [\n",
        "        SystemMessage(content = SYSTEM_PROMPT),\n",
        "        HumanMessage(content = HUMAN_PROMPT),\n",
        "        ]\n",
        "\n",
        "      llm = ChatOpenAI(\n",
        "        model=MODEL,\n",
        "        temperature= 0.0,\n",
        "        n= 1,\n",
        "        max_tokens= 300)\n",
        "\n",
        "      return llm.invoke(messages).content\n",
        "\n",
        "  # def summarize_for_diary(conversation, persona_name, opposite_persona_name, persona_info, opposite_persona_info):\n",
        "\n",
        "\n",
        "  def retrieve_and_upgrade_persona(persona, summary):\n",
        "      \"\"\"\n",
        "      Extracts 'after' updates for the fields: name, age, gender, status, hobbies,\n",
        "      wealth, favorite_food, nemesis, quirky_trait from a summary and updates the Persona object.\n",
        "\n",
        "      Args:\n",
        "          persona (Persona): The Persona object to update.\n",
        "          summary (str): The string containing updates with after values.\n",
        "      \"\"\"\n",
        "      print(summary)\n",
        "      # Define the attributes and their regex patterns for 'after'\n",
        "      attributes = [\"name\", \"age\", \"gender\", \"status\", \"hobbies\", \"wealth\", \"favorite_food\", \"religious\", \"ethnicity\"]\n",
        "      updates = {}\n",
        "\n",
        "      for attribute in attributes:\n",
        "          after_pattern = rf\"<{attribute}After>(.*?)</{attribute}After>\"\n",
        "\n",
        "          after_match = re.search(after_pattern, summary)\n",
        "\n",
        "          if after_match:\n",
        "              value = after_match.group(1)\n",
        "              # Parse hobbies if the attribute is 'hobbies'\n",
        "              if attribute == \"hobbies\":\n",
        "                  # Convert the hobbies string to a Python list\n",
        "                  value = [hobby.strip() for hobby in value.split(',') if hobby.strip()]\n",
        "              updates[attribute] = value\n",
        "\n",
        "      # Update the persona object using the update_info method\n",
        "      persona.update_info(**updates)\n",
        "\n",
        "  def persona_to_persona_chat(persona_1, persona_2, persona_2_intro, rounds=5):\n",
        "      \"\"\"\n",
        "      Simulates a conversation between two personas using ConversationChain.\n",
        "\n",
        "      Args:\n",
        "          persona_1_name (str): The name of the first persona.\n",
        "          persona_2_name (str): The name of the second persona.\n",
        "          persona_2_intro (str): The introductory message from Persona 2.\n",
        "          rounds (int): Number of conversational exchanges.\n",
        "      \"\"\"\n",
        "      persona_1_name = persona_1.name\n",
        "      persona_2_name = persona_2.name\n",
        "      persona_1_info = persona_1.info_to_string_story()\n",
        "      persona_2_info = persona_2.info_to_string_story()\n",
        "\n",
        "\n",
        "\n",
        "      # Initialize two separate conversations for each persona\n",
        "      persona_1_conversation = Talk.begin_conversation(persona_1_name, persona_2_name, persona_1_info, persona_2_info)\n",
        "      persona_2_conversation = Talk.begin_conversation(persona_2_name, persona_1_name, persona_2_info, persona_1_info)\n",
        "\n",
        "      persona_2_intro = f\"{persona_2_name}: {persona_2_intro}.\"\n",
        "\n",
        "      # Start the conversation\n",
        "      print(\"=== Conversation Start ===\")\n",
        "      persona_1_response = Talk.chat(persona_1_conversation, persona_2_intro)\n",
        "\n",
        "      # persona_1_response = f\"{persona_2_name}: {persona_2_intro}\\n {persona_1_response}\"\n",
        "      persona_1_response = f\"{persona_2_name}: {persona_2_intro}\\n {persona_1_name}: {persona_1_response}.\"\n",
        "      for i in range(rounds):\n",
        "          persona_2_response = Talk.chat(persona_2_conversation, persona_1_response)\n",
        "          persona_1_response = Talk.chat(persona_1_conversation, persona_2_response)\n",
        "      print(\"=== Conversation End ===\")\n",
        "      Talk.retrieve_and_upgrade_persona(persona_1, Talk.summarize_after_chat(persona_1_conversation, persona_1_name, persona_2_name, persona_1_info, persona_2_info))\n",
        "      Talk.retrieve_and_upgrade_persona(persona_2, Talk.summarize_after_chat(persona_2_conversation, persona_2_name, persona_1_name, persona_2_info, persona_1_info))\n",
        "\n",
        "\n",
        "      # print(f\"Summary: {Talk.summarize_after_chat(persona_1_conversation, persona_1_name, persona_2_name, persona_1_info, persona_2_info)}\")\n",
        "      # print(f\"Summary: {Talk.summarize_after_chat(persona_2_conversation, persona_2_name, persona_1_name, persona_2_info, persona_1_info)}\")\n"
      ],
      "metadata": {
        "id": "QiE0R-9vZ4-7"
      },
      "execution_count": null,
      "outputs": []
    },
    {
      "cell_type": "markdown",
      "source": [
        "# **4. Run here!**"
      ],
      "metadata": {
        "id": "J8gbNoZs8A1b"
      }
    },
    {
      "cell_type": "code",
      "source": [
        "persona_lea = Persona.generate_persona_from_gpt(\"Lea\")\n",
        "persona_alex = Persona(\n",
        "    name=\"Alex\",\n",
        "    age=29,\n",
        "    gender=\"Male\",\n",
        "    status=\"Teacher\",\n",
        "    hobbies=[\"painting\", \"cycling\", \"reading sci-fi\"],\n",
        "    wealth=\"550\",\n",
        "    belongings=[\"textbook\"],\n",
        "    religious=\"Agnostic\",\n",
        "    ethnicity=\"American\"\n",
        ")\n",
        "persona_yuki = Persona.generate_persona_from_gpt(\"Yuki\")\n",
        "persona_KaiYi = Persona.generate_persona_from_gpt(\"KaiYi\")\n",
        "Persona.display_info(persona_lea)\n",
        "print(\"\")\n",
        "Persona.display_info(persona_yuki)\n",
        "print(\"\")\n",
        "Persona.display_info(persona_KaiYi)\n",
        "print(\"\")"
      ],
      "metadata": {
        "id": "DSaC0AAVxtUm",
        "outputId": "90659200-1813-41eb-85f1-032b69917082",
        "colab": {
          "base_uri": "https://localhost:8080/"
        }
      },
      "execution_count": 22,
      "outputs": [
        {
          "output_type": "stream",
          "name": "stdout",
          "text": [
            "Name: Lea\n",
            "Age: 30\n",
            "Gender: Female\n",
            "Status: Technical Writer\n",
            "Hobbies: ['reading', 'yoga', 'gardening']\n",
            "Wealth: 600\n",
            "Belongings: ['laptop', 'notebook', 'smartphone']\n",
            "Religious: Christian\n",
            "Ethnicity: American\n",
            "\n",
            "Name: Yuki\n",
            "Age: 22\n",
            "Gender: Female\n",
            "Status: Student\n",
            "Hobbies: ['drawing', 'playing piano', 'reading novels']\n",
            "Wealth: 400\n",
            "Belongings: ['laptop', 'sketchbook', 'piano music sheets']\n",
            "Religious: Shinto\n",
            "Ethnicity: Japanese\n",
            "\n",
            "Name: KaiYi\n",
            "Age: 30\n",
            "Gender: Female\n",
            "Status: Marketing Manager\n",
            "Hobbies: ['yoga', 'cooking', 'photography']\n",
            "Wealth: 650\n",
            "Belongings: ['smartphone', 'camera', 'journal']\n",
            "Religious: Taoism\n",
            "Ethnicity: Chinese\n",
            "\n"
          ]
        }
      ]
    },
    {
      "cell_type": "markdown",
      "source": [
        "## **4.1 Case 1: Asking Alex to provide more money than he has**\n",
        "**Observation:** Alex know he doesn't have that much money.  \n",
        "**Problem:** The reply contains too much info...need to fix the prompt."
      ],
      "metadata": {
        "id": "Wz1yA8Xr8nY3"
      }
    },
    {
      "cell_type": "code",
      "source": [
        "# Define persona information\n",
        "persona_1_name = \"Alex\"\n",
        "persona_2_name = \"Lea\"\n",
        "persona_2_intro = \"Can I borrow 1000 from you?\"\n",
        "persona_2_info = persona_lea.info_to_string_story()\n",
        "persona_1_info = persona_alex.info_to_string_story()\n",
        "\n",
        "# Simulate their conversation\n",
        "Talk.persona_to_persona_chat(persona_alex, persona_lea, persona_2_intro, rounds=1)\n",
        "# persona_to_persona_chat(persona_1_name, persona_2_name, persona_2_intro, rounds=5)"
      ],
      "metadata": {
        "id": "DJciKHlKjYPO",
        "outputId": "c5900c27-ac85-4aed-d8dc-72b25320ad34",
        "colab": {
          "base_uri": "https://localhost:8080/",
          "height": 217
        }
      },
      "execution_count": null,
      "outputs": [
        {
          "output_type": "stream",
          "name": "stdout",
          "text": [
            "=== Conversation Start ===\n"
          ]
        },
        {
          "output_type": "display_data",
          "data": {
            "text/markdown": "Alex: I appreciate you asking, Lea, but I'm not in a position to lend that amount right now. My wealth is currently at 550. Maybe we can think of other ways to help each other out?"
          },
          "metadata": {}
        },
        {
          "output_type": "display_data",
          "data": {
            "text/markdown": "Lea: I understand, Alex. It's tough when finances are tight. Maybe we can brainstorm some ideas together or find a way to collaborate on a project that could benefit us both?"
          },
          "metadata": {}
        },
        {
          "output_type": "display_data",
          "data": {
            "text/markdown": "Alex: That sounds like a great idea, Lea! Collaborating on a project could definitely help us both out. Since you're a graphic designer and I enjoy painting, maybe we could create some artwork together or even organize a small exhibition. What do you think?"
          },
          "metadata": {}
        },
        {
          "output_type": "stream",
          "name": "stdout",
          "text": [
            "=== Conversation End ===\n",
            "No changes to my background information occurred during this conversation.\n",
            "No changes to my background information occurred during this conversation.\n"
          ]
        }
      ]
    },
    {
      "cell_type": "markdown",
      "source": [
        "## **4.2.1 Borrow reasonable money from Alex**  \n",
        "**Observation:**\n",
        "1. Alex know he can lend the money to Lea.\n",
        "2. Summary system know this would change both people's wealth.\n",
        "3. Upgrade info retrieval method can identify the change.\n",
        "**Problem:** Summary system made some mistake at some point."
      ],
      "metadata": {
        "id": "HF2GvM6N8vIG"
      }
    },
    {
      "cell_type": "code",
      "source": [
        "# Define persona information\n",
        "persona_1_name = \"Alex\"\n",
        "persona_2_name = \"Lea\"\n",
        "persona_2_intro = \"Can I borrow 20 from you? I'll give you back in a month\"\n",
        "persona_2_info = persona_lea.info_to_string_story()\n",
        "persona_1_info = persona_alex.info_to_string_story()\n",
        "\n",
        "# Simulate their conversation\n",
        "Talk.persona_to_persona_chat(persona_alex, persona_lea, persona_2_intro, rounds=2)"
      ],
      "metadata": {
        "id": "K1ptqSEY8-x2",
        "outputId": "69775009-0b73-42df-d073-d05c8ece8927",
        "colab": {
          "base_uri": "https://localhost:8080/",
          "height": 283
        }
      },
      "execution_count": null,
      "outputs": [
        {
          "output_type": "stream",
          "name": "stdout",
          "text": [
            "=== Conversation Start ===\n"
          ]
        },
        {
          "output_type": "display_data",
          "data": {
            "text/markdown": "Alex: Sure, Lea! I can lend you the $20. Just let me know when you’re ready to pay it back."
          },
          "metadata": {}
        },
        {
          "output_type": "display_data",
          "data": {
            "text/markdown": "Lea: Thanks, Alex! I really appreciate it. I'll make sure to pay you back in a month."
          },
          "metadata": {}
        },
        {
          "output_type": "display_data",
          "data": {
            "text/markdown": "Alex: No problem, Lea! I'm glad I could help. Just let me know if you need anything else in the meantime."
          },
          "metadata": {}
        },
        {
          "output_type": "display_data",
          "data": {
            "text/markdown": "Lea: Thanks, Alex! I really appreciate your willingness to help. If I think of anything else, I'll definitely let you know!"
          },
          "metadata": {}
        },
        {
          "output_type": "display_data",
          "data": {
            "text/markdown": "Alex: You're welcome, Lea! I'm always here to help. If you ever want to chat about art or travel, feel free to reach out!"
          },
          "metadata": {}
        },
        {
          "output_type": "stream",
          "name": "stdout",
          "text": [
            "=== Conversation End ===\n",
            "After lending $20 to Lea, my wealth changes from <wealthBefore>550</wealthBefore> to <wealthAfter>530</wealthAfter>. \n",
            "\n",
            "This is because I lent her the money, which decreases my total wealth.\n",
            "Updated wealth to 530\n",
            "Lea's wealth is decreasing from <wealthBefore>450</wealthBefore> to <wealthAfter>430</wealthAfter> as she borrows $20 from Alex.\n",
            "Updated wealth to 430\n"
          ]
        }
      ]
    },
    {
      "cell_type": "markdown",
      "source": [
        "## **4.2.2 Borrow reasonable money from Alex(longer conversation)**  \n",
        "**Observation:**\n",
        "1. Alex invite Lea to do something! Lea say yes!\n",
        "**Problem:** Diary system is not ready to capture the event LoL"
      ],
      "metadata": {
        "id": "XhEQTVTMuVos"
      }
    },
    {
      "cell_type": "code",
      "source": [
        "# Define persona information\n",
        "persona_1_name = \"Alex\"\n",
        "persona_2_name = \"Lea\"\n",
        "persona_2_intro = \"Can I borrow 20 from you? I'll give you back in a month\"\n",
        "persona_2_info = persona_lea.info_to_string_story()\n",
        "persona_1_info = persona_alex.info_to_string_story()\n",
        "\n",
        "# Simulate their conversation\n",
        "Talk.persona_to_persona_chat(persona_alex, persona_lea, persona_2_intro, rounds=10)"
      ],
      "metadata": {
        "id": "8Z04gIUSt9xs",
        "outputId": "0019ec07-b664-4588-f917-773ed65d8285",
        "colab": {
          "base_uri": "https://localhost:8080/",
          "height": 1000
        }
      },
      "execution_count": null,
      "outputs": [
        {
          "output_type": "stream",
          "name": "stdout",
          "text": [
            "=== Conversation Start ===\n"
          ]
        },
        {
          "output_type": "display_data",
          "data": {
            "text/markdown": "Alex: Sure, Lea! I can lend you the $20. Just let me know when you’re ready to pay it back."
          },
          "metadata": {}
        },
        {
          "output_type": "display_data",
          "data": {
            "text/markdown": "Lea: Thanks, Alex! I really appreciate it. I'll make sure to pay you back in a month."
          },
          "metadata": {}
        },
        {
          "output_type": "display_data",
          "data": {
            "text/markdown": "Alex: No problem, Lea! I'm glad I could help. Just let me know if you need anything else in the meantime."
          },
          "metadata": {}
        },
        {
          "output_type": "display_data",
          "data": {
            "text/markdown": "Lea: Thanks, Alex! I really appreciate your willingness to help. If I think of anything else I might need, I'll definitely let you know!"
          },
          "metadata": {}
        },
        {
          "output_type": "display_data",
          "data": {
            "text/markdown": "Alex: You're welcome, Lea! I'm always here to help. If you ever want to chat about art or travel, feel free to reach out!"
          },
          "metadata": {}
        },
        {
          "output_type": "display_data",
          "data": {
            "text/markdown": "Lea: That sounds great, Alex! I love discussing art and travel. It's always inspiring to share ideas and experiences. Do you have any favorite places you've traveled to?"
          },
          "metadata": {}
        },
        {
          "output_type": "display_data",
          "data": {
            "text/markdown": "Alex: Absolutely, Lea! I really enjoy discussing art and travel too. One of my favorite places I've traveled to is Kyoto, Japan. The blend of traditional culture and stunning landscapes is just breathtaking. How about you? Do you have any favorite travel destinations?"
          },
          "metadata": {}
        },
        {
          "output_type": "display_data",
          "data": {
            "text/markdown": "Lea: Kyoto sounds amazing, Alex! I've always wanted to visit Japan. One of my favorite travel destinations is Rio de Janeiro, Brazil. The vibrant culture, beautiful beaches, and stunning views from places like Sugarloaf Mountain are unforgettable. Do you have any specific memories from Kyoto that stand out?"
          },
          "metadata": {}
        },
        {
          "output_type": "display_data",
          "data": {
            "text/markdown": "Alex: Kyoto truly is a remarkable place, Lea! One memory that stands out for me is visiting the Arashiyama Bamboo Grove. Walking through those towering bamboo stalks felt like stepping into another world. The tranquility and beauty of that place were incredible. Have you had any memorable experiences in Rio?"
          },
          "metadata": {}
        },
        {
          "output_type": "display_data",
          "data": {
            "text/markdown": "Lea: That sounds magical, Alex! The Arashiyama Bamboo Grove must have been an incredible experience. In Rio, one of my most memorable moments was watching the sunset from the top of Sugarloaf Mountain. The view of the city and the ocean was breathtaking, and the colors in the sky were just stunning. It felt like a perfect moment. Do you have any other favorite spots in Kyoto?"
          },
          "metadata": {}
        },
        {
          "output_type": "display_data",
          "data": {
            "text/markdown": "Alex: That sounds like a perfect moment, Lea! Watching the sunset from Sugarloaf Mountain must have been unforgettable. In Kyoto, another favorite spot of mine is Kinkaku-ji, the Golden Pavilion. The way it reflects on the surrounding pond is just mesmerizing, especially during the fall when the leaves change colors. Do you enjoy visiting historical sites when you travel?"
          },
          "metadata": {}
        },
        {
          "output_type": "display_data",
          "data": {
            "text/markdown": "Lea: Kinkaku-ji sounds beautiful, Alex! I love visiting historical sites when I travel. They offer such a deep connection to the culture and history of a place. In Rio, I enjoyed exploring the Selarón Steps, with its vibrant tiles and artistic flair. It really captures the spirit of the city. Do you have a favorite historical site in Kyoto?"
          },
          "metadata": {}
        },
        {
          "output_type": "display_data",
          "data": {
            "text/markdown": "Alex: The Selarón Steps are such a vibrant representation of Rio's culture, Lea! In Kyoto, one of my favorite historical sites is Fushimi Inari Taisha. The thousands of red torii gates that wind up the mountain create a stunning path, and the atmosphere is both serene and spiritual. It's fascinating to see how the site has been preserved over the years. Do you have any other travel destinations on your bucket list?"
          },
          "metadata": {}
        },
        {
          "output_type": "display_data",
          "data": {
            "text/markdown": "Lea: Fushimi Inari Taisha sounds incredible, Alex! The sight of all those red torii gates must be breathtaking. As for my travel bucket list, I dream of visiting Japan again, especially places like Nara for its friendly deer and the historic temples. I also want to explore Europe, particularly Italy for its art and cuisine. What about you? Any specific destinations on your bucket list?"
          },
          "metadata": {}
        },
        {
          "output_type": "display_data",
          "data": {
            "text/markdown": "Alex: Nara is a fantastic choice, Lea! The friendly deer there are such a unique experience. As for my travel bucket list, I would love to visit Iceland for its stunning landscapes and natural wonders, like the Northern Lights and geysers. I'm also keen on exploring more of the art scene in Europe, especially in cities like Paris and Barcelona. The blend of culture and creativity there is truly inspiring. Do you have any specific places in Italy that you're particularly excited about?"
          },
          "metadata": {}
        },
        {
          "output_type": "display_data",
          "data": {
            "text/markdown": "Lea: Iceland sounds amazing, Alex! The Northern Lights must be a sight to behold. In Italy, I'm particularly excited about visiting Florence for its incredible art and architecture, especially the Uffizi Gallery. I also want to see Venice with its unique canals and romantic atmosphere. Have you been to any of these places, or do you have a favorite city in Italy?"
          },
          "metadata": {}
        },
        {
          "output_type": "display_data",
          "data": {
            "text/markdown": "Alex: Florence is a wonderful choice, Lea! The Uffizi Gallery is a treasure trove of art. I haven't been to Italy yet, but I would love to visit Florence and Venice someday. The art and architecture in Florence are truly captivating, and Venice's canals have such a romantic charm. If I had to pick a favorite city in Italy, it would probably be Florence for its rich history and artistic heritage. Do you have any favorite artists or artworks that you're looking forward to seeing in"
          },
          "metadata": {}
        },
        {
          "output_type": "display_data",
          "data": {
            "text/markdown": "Lea: I'm glad you like Florence too, Alex! I'm really looking forward to seeing works by Botticelli and Michelangelo at the Uffizi Gallery. Their art has always inspired me as a graphic designer. I also admire the sculptures of Donatello. Do you have any favorite artists or artworks that you appreciate, especially in the context of your painting?"
          },
          "metadata": {}
        },
        {
          "output_type": "display_data",
          "data": {
            "text/markdown": "Alex: I share your admiration for Botticelli and Michelangelo, Lea! Their works are truly inspiring. As for my favorites, I have a deep appreciation for Vincent van Gogh. His use of color and emotion in pieces like \"Starry Night\" resonates with me as a painter. I also admire the abstract works of Wassily Kandinsky; his ability to convey feelings through shapes and colors is fascinating. Do you find that certain artists influence your graphic design style?"
          },
          "metadata": {}
        },
        {
          "output_type": "display_data",
          "data": {
            "text/markdown": "Lea: Absolutely, Alex! Artists like Botticelli and Michelangelo have definitely influenced my style, especially in terms of composition and color. I also draw inspiration from contemporary graphic designers like Paula Scher and Jessica Walsh, who have a unique way of blending typography and imagery. Their bold use of color and innovative layouts inspire me to push the boundaries in my own work. Do you find that your teaching influences your painting in any way?"
          },
          "metadata": {}
        },
        {
          "output_type": "display_data",
          "data": {
            "text/markdown": "Alex: That's a great question, Lea! Teaching definitely influences my painting. It encourages me to think critically about art and to explore different techniques, which I can then share with my students. I often find myself experimenting with new ideas that I come across in the classroom. Additionally, seeing my students' creativity and passion for art inspires me to keep evolving my own style. Do you ever incorporate your travels into your graphic design projects?"
          },
          "metadata": {}
        },
        {
          "output_type": "stream",
          "name": "stdout",
          "text": [
            "=== Conversation End ===\n",
            "Lea borrowed $20 from me, which affects my wealth. My wealth is decreasing from <wealthBefore>530</wealthBefore> to <wealthAfter>510</wealthAfter>.\n",
            "Updated wealth to 510\n",
            "Lea's wealth is changing from <wealthBefore>430</wealthBefore> to <wealthAfter>410</wealthAfter> as she borrows $20 from Alex. \n",
            "\n",
            "Lea's wealth is decreasing because she has taken a loan, which will need to be repaid in the future.\n",
            "Updated wealth to 410\n"
          ]
        }
      ]
    },
    {
      "cell_type": "code",
      "source": [
        "Persona.display_info(persona_alex)\n",
        "Persona.display_info(persona_lea)"
      ],
      "metadata": {
        "colab": {
          "base_uri": "https://localhost:8080/"
        },
        "id": "BZjt6mg3Ye0I",
        "outputId": "481e87ea-f1e0-472c-aff4-7501845aeee9"
      },
      "execution_count": null,
      "outputs": [
        {
          "output_type": "stream",
          "name": "stdout",
          "text": [
            "Name: Alex\n",
            "Age: 29\n",
            "Gender: Male\n",
            "Status: Teacher\n",
            "Hobbies: painting, cycling, reading sci-fi\n",
            "Wealth: 510\n",
            "Favorite Food: Sushi\n",
            "Religious: Agnostic\n",
            "Ethnicity: American\n",
            "Name: Lea\n",
            "Age: 23\n",
            "Gender: Female\n",
            "Status: Graphic Designer\n",
            "Hobbies: drawing, yoga, traveling\n",
            "Wealth: 410\n",
            "Favorite Food: Sushi\n",
            "Religious: Agnostic\n",
            "Ethnicity: Brazilian\n"
          ]
        }
      ]
    },
    {
      "cell_type": "markdown",
      "source": [
        "# **5. Diary.py**"
      ],
      "metadata": {
        "id": "JwFDkgStFZp7"
      }
    },
    {
      "cell_type": "code",
      "source": [
        "class Diary:\n",
        "    def __init__(self):\n",
        "        \"\"\"\n",
        "        Initialize the Diary class with an empty dictionary to store events.\n",
        "        \"\"\"\n",
        "        self.events = {}\n",
        "        self.to_do_list = {}\n",
        "\n",
        "    def add_event(self, date, description):\n",
        "        \"\"\"\n",
        "        Add a new event to the diary.\n",
        "\n",
        "        :param date: The date of the event (string format: 'YYYY-MM-DD').\n",
        "        :param description: A description of the event (string).\n",
        "        \"\"\"\n",
        "        if date in self.events:\n",
        "            self.events[date].append(description)\n",
        "        else:\n",
        "            self.events[date] = [description]\n",
        "        print(f\"Event added for {date}: {description}\")\n",
        "\n",
        "    def view_events(self, date):\n",
        "        \"\"\"\n",
        "        View all events for a specific date.\n",
        "\n",
        "        :param date: The date to view events (string format: 'YYYY-MM-DD').\n",
        "        :return: A list of events for the specified date or a message if no events exist.\n",
        "        \"\"\"\n",
        "        if date in self.events:\n",
        "            return self.events[date]\n",
        "        else:\n",
        "            return f\"No events found for {date}.\"\n",
        "\n",
        "    def delete_event(self, date, description):\n",
        "        \"\"\"\n",
        "        Delete a specific event from a specific date.\n",
        "\n",
        "        :param date: The date of the event to delete (string format: 'YYYY-MM-DD').\n",
        "        :param description: The description of the event to delete (string).\n",
        "        \"\"\"\n",
        "        if date in self.events:\n",
        "            try:\n",
        "                self.events[date].remove(description)\n",
        "                print(f\"Event removed for {date}: {description}\")\n",
        "                if not self.events[date]:  # If the list for that date is empty, remove the key\n",
        "                    del self.events[date]\n",
        "            except ValueError:\n",
        "                print(f\"Event not found for {date}: {description}\")\n",
        "        else:\n",
        "            print(f\"No events found for {date}.\")\n",
        "\n",
        "    def list_all_events(self):\n",
        "        \"\"\"\n",
        "        List all events in the diary.\n",
        "\n",
        "        :return: A dictionary containing all events or a message if the diary is empty.\n",
        "        \"\"\"\n",
        "        if self.events:\n",
        "            return self.events\n",
        "        else:\n",
        "            return \"No events in the diary.\"\n",
        "\n",
        "    def add_to_do_item(self, date, description):\n",
        "        \"\"\"\n",
        "        Add a new to-do item to the diary.\n",
        "\n",
        "        :param date: The date of the to-do item (string format: 'YYYY-MM-DD').\n",
        "        :param description: A description of the to-do item (string).\n",
        "        \"\"\"\n",
        "        if date in self.to_do_list:\n",
        "            self.to_do_list[date].append(description)\n",
        "        else:\n",
        "            self.to_do_list[date] = [description]\n",
        "\n",
        "    def view_to_do_list(self):\n",
        "        \"\"\"\n",
        "        View all to-do items in the diary.\n",
        "\n",
        "        :return: A dictionary containing all to-do items or a message if the to-do list is empty.\n",
        "        \"\"\"\n",
        "        if self.to_do_list:\n",
        "            return self.to_do_list\n",
        "        else:\n",
        "            return \"No to-do items in the diary.\"\n",
        "\n",
        "    def delete_to_do_item(self, date, description):\n",
        "        if date in self.to_do_list:\n",
        "            try:\n",
        "                self.to_do_list[date].remove(description)\n",
        "                print(f\"Event removed for {date}: {description}\")\n",
        "                if not self.to_do_list[date]:  # If the list for that date is empty, remove the key\n",
        "                    del self.to_do_list[date]\n",
        "            except ValueError:\n",
        "                print(f\"Event not found for {date}: {description}\")\n",
        "        else:\n",
        "            print(f\"No to_do_list found for {date}.\")\n",
        "\n",
        "# Example usage:\n",
        "if __name__ == \"__main__\":\n",
        "    my_diary = Diary()\n",
        "    my_diary.add_event(\"2024-12-18\", \"Submit thesis\")\n",
        "    my_diary.add_event(\"2024-12-18\", \"Celebrate with friends\")\n",
        "    my_diary.add_event(\"2024-12-19\", \"Plan holiday trip\")\n",
        "\n",
        "    # print(my_diary.view_events(\"2024-12-18\"))\n",
        "    # my_diary.delete_event(\"2024-12-18\", \"Submit thesis\")\n",
        "    # print(my_diary.view_events(\"2024-12-18\"))\n",
        "    print(my_diary.list_all_events())\n",
        "\n"
      ],
      "metadata": {
        "colab": {
          "base_uri": "https://localhost:8080/"
        },
        "id": "h5KYYHj7Ff_C",
        "outputId": "aa725980-ce30-4a6e-ff2e-c805cceaf408"
      },
      "execution_count": null,
      "outputs": [
        {
          "output_type": "stream",
          "name": "stdout",
          "text": [
            "Event added for 2024-12-18: Submit thesis\n",
            "Event added for 2024-12-18: Celebrate with friends\n",
            "Event added for 2024-12-19: Plan holiday trip\n",
            "{'2024-12-18': ['Submit thesis', 'Celebrate with friends'], '2024-12-19': ['Plan holiday trip']}\n"
          ]
        }
      ]
    },
    {
      "cell_type": "markdown",
      "source": [
        "# **6. Moving_Char.py(abandoned)**\n",
        "- check 7."
      ],
      "metadata": {
        "id": "tgicjGXVQIiK"
      }
    },
    {
      "cell_type": "code",
      "source": [
        "from langchain.tools import tool\n",
        "from langchain.agents import create_tool_calling_agent\n",
        "from langchain.agents import AgentExecutor\n",
        "from langchain import hub\n",
        "from langchain_openai import ChatOpenAI\n",
        "\n",
        "class Moving_Char:\n",
        "  @tool\n",
        "  def move_up(coordinate: tuple) -> tuple:\n",
        "      \"\"\"\n",
        "      Move the coordinate one step up.\n",
        "\n",
        "      :param coordinate: A tuple (x, y) representing the current position.\n",
        "      :return: A tuple (x, y+1) representing the new position.\n",
        "      \"\"\"\n",
        "      x, y = coordinate\n",
        "      return (x, y + 1)\n",
        "\n",
        "  @tool\n",
        "  def move_down(coordinate: tuple) -> tuple:\n",
        "      \"\"\"\n",
        "      Move the coordinate one step down.\n",
        "\n",
        "      :param coordinate: A tuple (x, y) representing the current position.\n",
        "      :return: A tuple (x, y-1) representing the new position.\n",
        "      \"\"\"\n",
        "      x, y = coordinate\n",
        "      return (x, y - 1)\n",
        "\n",
        "  @tool\n",
        "  def move_left(coordinate: tuple) -> tuple:\n",
        "      \"\"\"\n",
        "      Move the coordinate one step left.\n",
        "\n",
        "      :param coordinate: A tuple (x, y) representing the current position.\n",
        "      :return: A tuple (x-1, y) representing the new position.\n",
        "      \"\"\"\n",
        "      x, y = coordinate\n",
        "      return (x - 1, y)\n",
        "\n",
        "  @tool\n",
        "  def move_right(coordinate: tuple) -> tuple:\n",
        "      \"\"\"\n",
        "      Move the coordinate one step right.\n",
        "\n",
        "      :param coordinate: A tuple (x, y) representing the current position.\n",
        "      :return: A tuple (x+1, y) representing the new position.\n",
        "      \"\"\"\n",
        "      x, y = coordinate\n",
        "      return (x + 1, y)\n",
        "\n",
        "  tools = [move_up, move_down, move_left, move_right]\n",
        "\n",
        "  llm = ChatOpenAI(\n",
        "      model=\"gpt-4o-mini\",\n",
        "      temperature=0.2,\n",
        "      verbose=True\n",
        "  )\n",
        "\n",
        "  prompt = hub.pull(\"hwchase17/openai-functions-agent\")\n",
        "\n",
        "  agent = create_tool_calling_agent(llm, tools, prompt)\n",
        "  agent_executor = AgentExecutor(agent=agent, tools=tools, verbose=True)\n",
        "\n",
        "  # Define the task\n",
        "  start_position = (5, 2)\n",
        "  end_position = (2, 3)\n",
        "\n",
        "  # Invoke the agent\n",
        "  result = agent_executor.invoke({\n",
        "      \"input\": f\"Move from {start_position} to {end_position}.\"\n",
        "  })\n",
        "  print(\"Result:\", result)\n"
      ],
      "metadata": {
        "collapsed": true,
        "id": "dFOYS8dzQNUq",
        "outputId": "a28394e8-41c0-4875-83d2-aa2422b0ca46",
        "colab": {
          "base_uri": "https://localhost:8080/"
        }
      },
      "execution_count": null,
      "outputs": [
        {
          "output_type": "stream",
          "name": "stderr",
          "text": [
            "/usr/local/lib/python3.10/dist-packages/langsmith/client.py:261: LangSmithMissingAPIKeyWarning: API key must be provided when using hosted LangSmith API\n",
            "  warnings.warn(\n"
          ]
        },
        {
          "output_type": "stream",
          "name": "stdout",
          "text": [
            "\n",
            "\n",
            "\u001b[1m> Entering new AgentExecutor chain...\u001b[0m\n",
            "\u001b[32;1m\u001b[1;3m\n",
            "Invoking: `move_left` with `{'coordinate': [5, 2]}`\n",
            "\n",
            "\n",
            "\u001b[0m\u001b[38;5;200m\u001b[1;3m(4, 2)\u001b[0m\u001b[32;1m\u001b[1;3m\n",
            "Invoking: `move_left` with `{'coordinate': [4, 2]}`\n",
            "\n",
            "\n",
            "\u001b[0m\u001b[38;5;200m\u001b[1;3m(3, 2)\u001b[0m\u001b[32;1m\u001b[1;3m\n",
            "Invoking: `move_left` with `{'coordinate': [3, 2]}`\n",
            "\n",
            "\n",
            "\u001b[0m\u001b[38;5;200m\u001b[1;3m(2, 2)\u001b[0m\u001b[32;1m\u001b[1;3m\n",
            "Invoking: `move_up` with `{'coordinate': [3, 2]}`\n",
            "\n",
            "\n",
            "\u001b[0m\u001b[36;1m\u001b[1;3m(3, 3)\u001b[0m\u001b[32;1m\u001b[1;3m\n",
            "Invoking: `move_up` with `{'coordinate': [3, 3]}`\n",
            "\n",
            "\n",
            "\u001b[0m\u001b[36;1m\u001b[1;3m(3, 4)\u001b[0m\u001b[32;1m\u001b[1;3m\n",
            "Invoking: `move_left` with `{'coordinate': [2, 3]}`\n",
            "\n",
            "\n",
            "\u001b[0m\u001b[38;5;200m\u001b[1;3m(1, 3)\u001b[0m\u001b[32;1m\u001b[1;3m\n",
            "Invoking: `move_up` with `{'coordinate': [2, 2]}`\n",
            "\n",
            "\n",
            "\u001b[0m\u001b[36;1m\u001b[1;3m(2, 3)\u001b[0m\u001b[32;1m\u001b[1;3m\n",
            "Invoking: `move_left` with `{'coordinate': [2, 3]}`\n",
            "\n",
            "\n",
            "\u001b[0m\u001b[38;5;200m\u001b[1;3m(1, 3)\u001b[0m\u001b[32;1m\u001b[1;3m\n",
            "Invoking: `move_down` with `{'coordinate': [2, 4]}`\n",
            "\n",
            "\n",
            "\u001b[0m\u001b[33;1m\u001b[1;3m(2, 3)\u001b[0m\u001b[32;1m\u001b[1;3mTo move from (5, 2) to (2, 3), you can follow these steps:\n",
            "\n",
            "1. Move left to (4, 2)\n",
            "2. Move left to (3, 2)\n",
            "3. Move left to (2, 2)\n",
            "4. Move up to (2, 3)\n",
            "\n",
            "You have successfully reached your destination at (2, 3).\u001b[0m\n",
            "\n",
            "\u001b[1m> Finished chain.\u001b[0m\n",
            "Result: {'input': 'Move from (5, 2) to (2, 3).', 'output': 'To move from (5, 2) to (2, 3), you can follow these steps:\\n\\n1. Move left to (4, 2)\\n2. Move left to (3, 2)\\n3. Move left to (2, 2)\\n4. Move up to (2, 3)\\n\\nYou have successfully reached your destination at (2, 3).'}\n"
          ]
        }
      ]
    },
    {
      "cell_type": "markdown",
      "source": [
        "# **7. CharTool.py**\n",
        "- Still testing\n",
        "\n"
      ],
      "metadata": {
        "id": "nkzi53x3TKzs"
      }
    },
    {
      "cell_type": "code",
      "source": [
        "from langchain.tools import tool, StructuredTool\n",
        "from langchain.agents import create_tool_calling_agent\n",
        "from langchain.agents import AgentExecutor\n",
        "from langchain import hub\n",
        "from langchain_openai import ChatOpenAI\n",
        "from pydantic import BaseModel, Field\n",
        "\n",
        "# Define a Pydantic schema for the button press input\n",
        "class ButtonPressInput(BaseModel):\n",
        "    direction: str = Field(description=\"The direction to move: 'north', 'south', 'east', or 'west'.\")\n",
        "\n",
        "class Location2Coordinate(BaseModel):\n",
        "    location: str = Field(description=\"The location to find: 'kitchen', 'living room', or 'bathroom'.\")\n",
        "\n",
        "class CharTool:\n",
        "  def __init__(self):\n",
        "    self.coordinate = (0, 0)\n",
        "    self.destination = (2, 3)\n",
        "    self.press_button_tool = StructuredTool(\n",
        "        name=\"press_button\",\n",
        "        description=\"\"\"Four directions, north, south, east and west that you can go.\n",
        "        The north direction make your y increasing 1.\n",
        "        The south direction make your y decreasing 1.\n",
        "        The east direction make your x increasing 1.\n",
        "        The west direction make your x decreasing 1.\n",
        "        \"\"\",\n",
        "        func=self.press_button,\n",
        "        args_schema=ButtonPressInput  # Define the expected input schema\n",
        "    )\n",
        "    self.location2coordinate_tool = StructuredTool(\n",
        "        name=\"location2coordinate\",\n",
        "        description=\"\"\"Three locations, kitchen, living room, and bathroom that you can go.\n",
        "        The kitchen location will return the coordinate of kitchen.\n",
        "        The living room location will return the coordinate of living room.\n",
        "        The bathroom location will return the coordinate of bathroom.\n",
        "        \"\"\",\n",
        "        func=self.location2coordinate,\n",
        "        args_schema=Location2Coordinate  # Define the expected input schema\n",
        "    )\n",
        "\n",
        "    self.get_position_tool = StructuredTool(\n",
        "        name = \"get_position\",\n",
        "        description = \"\"\"Get the current position\"\"\",\n",
        "        func = self.get_position,\n",
        "        args_schema = None\n",
        "    )\n",
        "\n",
        "\n",
        "  def move_up(self, coordinate: tuple) -> tuple:\n",
        "    x, y = coordinate\n",
        "    return (x, y + 1)\n",
        "\n",
        "  def move_down(self, coordinate: tuple) -> tuple:\n",
        "      x, y = coordinate\n",
        "      return (x, y - 1)\n",
        "\n",
        "  def move_left(self, coordinate: tuple) -> tuple:\n",
        "      x, y = coordinate\n",
        "      return (x - 1, y)\n",
        "\n",
        "  def move_right(self, coordinate: tuple) -> tuple:\n",
        "      x, y = coordinate\n",
        "      return (x + 1, y)\n",
        "\n",
        "  def get_position(self):\n",
        "    return self.coordinate\n",
        "\n",
        "  def press_button(self, direction: str):\n",
        "    if direction == 'north':\n",
        "      self.coordinate = self.move_up(self.coordinate)\n",
        "    elif direction == 'south':\n",
        "      self.coordinate = self.move_down(self.coordinate)\n",
        "    elif direction == 'east':\n",
        "      self.coordinate = self.move_right(self.coordinate)\n",
        "    elif direction == 'west':\n",
        "      self.coordinate = self.move_left(self.coordinate)\n",
        "    else:\n",
        "      raise ValueError(\"Invalid direction. Must be one of 'north', 'south', 'east', or 'west'.\")\n",
        "    print(f\"Current position: {self.get_position()}\")\n",
        "\n",
        "  def location2coordinate(self, location: str):\n",
        "    if location == 'kitchen':\n",
        "      return (10, 10)\n",
        "    elif location == 'living room':\n",
        "      return (5, 5)\n",
        "    elif location == 'bathroom':\n",
        "      return (2, 3)\n",
        "    else:\n",
        "      raise ValueError(\"Invalid location. Must be one of 'kitchen', 'living room', or 'bathroom'.\")\n",
        "    print(f\"{location} position: {self.coordinate}\")"
      ],
      "metadata": {
        "id": "di67WBVsTTuz"
      },
      "execution_count": null,
      "outputs": []
    },
    {
      "cell_type": "code",
      "source": [
        "# Initialize LLM and create an agent\n",
        "MODEL = 'gpt-4o-mini'\n",
        "llm = ChatOpenAI(model=MODEL, temperature=0.2, n=1)\n",
        "\n",
        "prompt = hub.pull(\"hwchase17/openai-functions-agent\")\n",
        "\n",
        "charTool = CharTool()\n",
        "tools = [charTool.press_button_tool, charTool.location2coordinate_tool, charTool.get_position_tool]\n",
        "agent = create_tool_calling_agent(llm, tools, prompt)\n",
        "agent_executor = AgentExecutor(agent=agent, tools=tools, verbose=True)\n",
        "\n",
        "\n",
        "end_position = (2, 3)\n",
        "\n",
        "result = agent_executor.invoke({\n",
        "    \"input\": f\"Move to kitchen.\"\n",
        "})\n",
        "print(\"Result:\", result)\n",
        "\n"
      ],
      "metadata": {
        "id": "agPyEP09XCgE",
        "outputId": "8f0ff37d-9e0a-4917-943a-8d239d8f5499",
        "colab": {
          "base_uri": "https://localhost:8080/"
        }
      },
      "execution_count": null,
      "outputs": [
        {
          "output_type": "stream",
          "name": "stderr",
          "text": [
            "/usr/local/lib/python3.10/dist-packages/langsmith/client.py:261: LangSmithMissingAPIKeyWarning: API key must be provided when using hosted LangSmith API\n",
            "  warnings.warn(\n"
          ]
        },
        {
          "output_type": "stream",
          "name": "stdout",
          "text": [
            "\n",
            "\n",
            "\u001b[1m> Entering new AgentExecutor chain...\u001b[0m\n",
            "\u001b[32;1m\u001b[1;3m\n",
            "Invoking: `location2coordinate` with `{'location': 'kitchen'}`\n",
            "\n",
            "\n",
            "\u001b[0m\u001b[33;1m\u001b[1;3m(10, 10)\u001b[0m\u001b[32;1m\u001b[1;3m\n",
            "Invoking: `get_position` with `{'config': {'tags': []}}`\n",
            "\n",
            "\n",
            "\u001b[0m\u001b[38;5;200m\u001b[1;3m(0, 0)\u001b[0m\u001b[32;1m\u001b[1;3m\n",
            "Invoking: `press_button` with `{'direction': 'east'}`\n",
            "\n",
            "\n",
            "\u001b[0mCurrent position: (1, 0)\n",
            "\u001b[36;1m\u001b[1;3mNone\u001b[0m\u001b[32;1m\u001b[1;3m\n",
            "Invoking: `press_button` with `{'direction': 'east'}`\n",
            "\n",
            "\n",
            "\u001b[0mCurrent position: (2, 0)\n",
            "\u001b[36;1m\u001b[1;3mNone\u001b[0m\u001b[32;1m\u001b[1;3m\n",
            "Invoking: `press_button` with `{'direction': 'east'}`\n",
            "\n",
            "\n",
            "\u001b[0mCurrent position: (3, 0)\n",
            "\u001b[36;1m\u001b[1;3mNone\u001b[0m\u001b[32;1m\u001b[1;3m\n",
            "Invoking: `press_button` with `{'direction': 'east'}`\n",
            "\n",
            "\n",
            "\u001b[0mCurrent position: (4, 0)\n",
            "\u001b[36;1m\u001b[1;3mNone\u001b[0m\u001b[32;1m\u001b[1;3m\n",
            "Invoking: `press_button` with `{'direction': 'east'}`\n",
            "\n",
            "\n",
            "\u001b[0mCurrent position: (5, 0)\n",
            "\u001b[36;1m\u001b[1;3mNone\u001b[0m\u001b[32;1m\u001b[1;3m\n",
            "Invoking: `press_button` with `{'direction': 'east'}`\n",
            "\n",
            "\n",
            "\u001b[0mCurrent position: (6, 0)\n",
            "\u001b[36;1m\u001b[1;3mNone\u001b[0m\u001b[32;1m\u001b[1;3m\n",
            "Invoking: `press_button` with `{'direction': 'east'}`\n",
            "\n",
            "\n",
            "\u001b[0mCurrent position: (7, 0)\n",
            "\u001b[36;1m\u001b[1;3mNone\u001b[0m\u001b[32;1m\u001b[1;3m\n",
            "Invoking: `press_button` with `{'direction': 'east'}`\n",
            "\n",
            "\n",
            "\u001b[0mCurrent position: (8, 0)\n",
            "\u001b[36;1m\u001b[1;3mNone\u001b[0m\u001b[32;1m\u001b[1;3m\n",
            "Invoking: `press_button` with `{'direction': 'east'}`\n",
            "\n",
            "\n",
            "\u001b[0mCurrent position: (9, 0)\n",
            "\u001b[36;1m\u001b[1;3mNone\u001b[0m\u001b[32;1m\u001b[1;3m\n",
            "Invoking: `press_button` with `{'direction': 'east'}`\n",
            "\n",
            "\n",
            "\u001b[0mCurrent position: (10, 0)\n",
            "\u001b[36;1m\u001b[1;3mNone\u001b[0m\u001b[32;1m\u001b[1;3m\n",
            "Invoking: `press_button` with `{'direction': 'north'}`\n",
            "\n",
            "\n",
            "\u001b[0mCurrent position: (10, 1)\n",
            "\u001b[36;1m\u001b[1;3mNone\u001b[0m\u001b[32;1m\u001b[1;3m\n",
            "Invoking: `press_button` with `{'direction': 'north'}`\n",
            "\n",
            "\n",
            "\u001b[0mCurrent position: (10, 2)\n",
            "\u001b[36;1m\u001b[1;3mNone\u001b[0m\u001b[32;1m\u001b[1;3m\n",
            "Invoking: `press_button` with `{'direction': 'north'}`\n",
            "\n",
            "\n",
            "\u001b[0mCurrent position: (10, 3)\n",
            "\u001b[36;1m\u001b[1;3mNone\u001b[0m\u001b[32;1m\u001b[1;3m\n",
            "Invoking: `press_button` with `{'direction': 'north'}`\n",
            "\n",
            "\n",
            "\u001b[0mCurrent position: (10, 4)\n",
            "\u001b[36;1m\u001b[1;3mNone\u001b[0m\u001b[32;1m\u001b[1;3m\n",
            "Invoking: `press_button` with `{'direction': 'north'}`\n",
            "\n",
            "\n",
            "\u001b[0mCurrent position: (10, 5)\n",
            "\u001b[36;1m\u001b[1;3mNone\u001b[0m\u001b[32;1m\u001b[1;3m\n",
            "Invoking: `press_button` with `{'direction': 'north'}`\n",
            "\n",
            "\n",
            "\u001b[0mCurrent position: (10, 6)\n",
            "\u001b[36;1m\u001b[1;3mNone\u001b[0m\u001b[32;1m\u001b[1;3m\n",
            "Invoking: `press_button` with `{'direction': 'north'}`\n",
            "\n",
            "\n",
            "\u001b[0mCurrent position: (10, 7)\n",
            "\u001b[36;1m\u001b[1;3mNone\u001b[0m\u001b[32;1m\u001b[1;3m\n",
            "Invoking: `press_button` with `{'direction': 'north'}`\n",
            "\n",
            "\n",
            "\u001b[0mCurrent position: (10, 8)\n",
            "\u001b[36;1m\u001b[1;3mNone\u001b[0m\u001b[32;1m\u001b[1;3m\n",
            "Invoking: `press_button` with `{'direction': 'north'}`\n",
            "\n",
            "\n",
            "\u001b[0mCurrent position: (10, 9)\n",
            "\u001b[36;1m\u001b[1;3mNone\u001b[0m\u001b[32;1m\u001b[1;3m\n",
            "Invoking: `press_button` with `{'direction': 'north'}`\n",
            "\n",
            "\n",
            "\u001b[0mCurrent position: (10, 10)\n",
            "\u001b[36;1m\u001b[1;3mNone\u001b[0m\u001b[32;1m\u001b[1;3mYou have successfully moved to the kitchen!\u001b[0m\n",
            "\n",
            "\u001b[1m> Finished chain.\u001b[0m\n",
            "Result: {'input': 'Move to kitchen.', 'output': 'You have successfully moved to the kitchen!'}\n"
          ]
        }
      ]
    },
    {
      "cell_type": "markdown",
      "source": [
        "# **98. What to do next**"
      ],
      "metadata": {
        "id": "Wmp01CKiDSMl"
      }
    },
    {
      "cell_type": "markdown",
      "source": [
        "1. Retrieve new info from a conversation, and then upgrade the Persona."
      ],
      "metadata": {
        "id": "WpZSm_LrDXvY"
      }
    },
    {
      "cell_type": "markdown",
      "source": [
        "# **99. Working History**"
      ],
      "metadata": {
        "id": "7QDh1xX_Co0r"
      }
    },
    {
      "cell_type": "markdown",
      "source": [
        "- 2024.12.16 ---- Rewrite the prompt in SystemMessage(GPT4_generate_persona)"
      ],
      "metadata": {
        "id": "KeyMuE7ICzAT"
      }
    }
  ]
}